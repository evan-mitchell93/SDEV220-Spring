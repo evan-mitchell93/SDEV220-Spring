{
 "cells": [
  {
   "cell_type": "code",
   "execution_count": null,
   "id": "c3c86303",
   "metadata": {},
   "outputs": [],
   "source": [
    "#Python comments\n"
   ]
  },
  {
   "cell_type": "markdown",
   "id": "a5a6dc83",
   "metadata": {},
   "source": [
    "Problem 3.1"
   ]
  },
  {
   "cell_type": "code",
   "execution_count": 6,
   "id": "9bd48f90",
   "metadata": {},
   "outputs": [
    {
     "data": {
      "text/plain": [
       "3721"
      ]
     },
     "execution_count": 6,
     "metadata": {},
     "output_type": "execute_result"
    }
   ],
   "source": [
    "x = 61\n",
    "x * x"
   ]
  },
  {
   "cell_type": "code",
   "execution_count": 7,
   "id": "3e1c1d75",
   "metadata": {},
   "outputs": [
    {
     "data": {
      "text/plain": [
       "61"
      ]
     },
     "execution_count": 7,
     "metadata": {},
     "output_type": "execute_result"
    }
   ],
   "source": [
    "x"
   ]
  },
  {
   "cell_type": "code",
   "execution_count": null,
   "id": "129b746f",
   "metadata": {},
   "outputs": [],
   "source": []
  }
 ],
 "metadata": {
  "kernelspec": {
   "display_name": "Python 3 (ipykernel)",
   "language": "python",
   "name": "python3"
  },
  "language_info": {
   "codemirror_mode": {
    "name": "ipython",
    "version": 3
   },
   "file_extension": ".py",
   "mimetype": "text/x-python",
   "name": "python",
   "nbconvert_exporter": "python",
   "pygments_lexer": "ipython3",
   "version": "3.11.5"
  }
 },
 "nbformat": 4,
 "nbformat_minor": 5
}
