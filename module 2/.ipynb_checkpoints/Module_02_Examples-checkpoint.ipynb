{
 "cells": [
  {
   "cell_type": "markdown",
   "id": "1f1ee283",
   "metadata": {},
   "source": [
    "Module 2 Python Examples\n",
    "Evan Mitchell\n",
    "03/25/2024\n",
    "\n",
    "Basic Structures\n",
    "Strings\n",
    "Special functions\n",
    "Formatting\n",
    "Operators"
   ]
  },
  {
   "cell_type": "code",
   "execution_count": 1,
   "id": "cb3a0bec",
   "metadata": {},
   "outputs": [
    {
     "data": {
      "text/plain": [
       "3"
      ]
     },
     "execution_count": 1,
     "metadata": {},
     "output_type": "execute_result"
    }
   ],
   "source": [
    "#This is a single line comment\n",
    "x = 3 #assignment of a variable\n",
    "x"
   ]
  },
  {
   "cell_type": "code",
   "execution_count": 2,
   "id": "b8a0fde8",
   "metadata": {},
   "outputs": [],
   "source": [
    "\"\"\"Either use\n",
    "    as multi line\n",
    "    or description\n",
    "\"\"\"\n",
    "\n",
    "def my_func(x):\n",
    "    \"\"\"Takes an integer x as argument\"\"\"\n",
    "    return x + 2"
   ]
  },
  {
   "cell_type": "markdown",
   "id": "50e8895d",
   "metadata": {},
   "source": []
  },
  {
   "cell_type": "code",
   "execution_count": 3,
   "id": "8d2cdaaf",
   "metadata": {},
   "outputs": [
    {
     "name": "stdout",
     "output_type": "stream",
     "text": [
      "Help on function my_func in module __main__:\n",
      "\n",
      "my_func(x)\n",
      "    Takes an integer x as argument\n",
      "\n"
     ]
    }
   ],
   "source": [
    "help(my_func)"
   ]
  },
  {
   "cell_type": "markdown",
   "id": "db0d744a",
   "metadata": {},
   "source": [
    "Continuation using \\ and ()"
   ]
  },
  {
   "cell_type": "code",
   "execution_count": 5,
   "id": "0d7e2542",
   "metadata": {},
   "outputs": [
    {
     "data": {
      "text/plain": [
       "7"
      ]
     },
     "execution_count": 5,
     "metadata": {},
     "output_type": "execute_result"
    }
   ],
   "source": [
    "cont_var = 3 + \\\n",
    "4\n",
    "\n",
    "cont_var"
   ]
  },
  {
   "cell_type": "code",
   "execution_count": 7,
   "id": "ccf42ab7",
   "metadata": {},
   "outputs": [
    {
     "data": {
      "text/plain": [
       "56"
      ]
     },
     "execution_count": 7,
     "metadata": {},
     "output_type": "execute_result"
    }
   ],
   "source": [
    "paren_cont = ( 7\n",
    "             *\n",
    "             8)\n",
    "paren_cont"
   ]
  },
  {
   "cell_type": "markdown",
   "id": "72f6c839",
   "metadata": {},
   "source": [
    "Selection/Decision Structures"
   ]
  },
  {
   "cell_type": "code",
   "execution_count": 10,
   "id": "7c4e018b",
   "metadata": {},
   "outputs": [
    {
     "name": "stdout",
     "output_type": "stream",
     "text": [
      "Not old\n"
     ]
    }
   ],
   "source": [
    "age = 99\n",
    "if age < 100:\n",
    "    print(\"Not old\")"
   ]
  },
  {
   "cell_type": "code",
   "execution_count": 14,
   "id": "21a4b270",
   "metadata": {},
   "outputs": [
    {
     "name": "stdout",
     "output_type": "stream",
     "text": [
      "Old\n"
     ]
    }
   ],
   "source": [
    "age = 100\n",
    "if age < 100:\n",
    "    print(\"Not old\")\n",
    "else:\n",
    "    print(\"Old\")"
   ]
  },
  {
   "cell_type": "markdown",
   "id": "1eebc6ac",
   "metadata": {},
   "source": [
    "Nested Ifs"
   ]
  },
  {
   "cell_type": "code",
   "execution_count": null,
   "id": "8c704cfd",
   "metadata": {},
   "outputs": [],
   "source": [
    "if age < 100:\n",
    "    if country == \"USA\":\n",
    "        print(\"USA USA\")\n",
    "    else:\n",
    "        print(\"NOT USA\")\n",
    "else:\n",
    "    if country == \"USA\":\n",
    "        print(\"OK\")\n",
    "        \n",
    "#Nothing happens in the case age is 100 or greater\n",
    "# and country is something other than USA\n"
   ]
  },
  {
   "cell_type": "code",
   "execution_count": 15,
   "id": "5e0c1d59",
   "metadata": {},
   "outputs": [
    {
     "name": "stdout",
     "output_type": "stream",
     "text": [
      "equal to\n"
     ]
    }
   ],
   "source": [
    "a = 10\n",
    "b = 10\n",
    "if b < a:\n",
    "    print(\"less than\")\n",
    "elif b == a:\n",
    "    print(\"equal to\")\n",
    "else:\n",
    "    print(\"greater than\")"
   ]
  },
  {
   "cell_type": "code",
   "execution_count": 19,
   "id": "98bab23b",
   "metadata": {},
   "outputs": [
    {
     "name": "stdout",
     "output_type": "stream",
     "text": [
      "not old\n"
     ]
    }
   ],
   "source": [
    "#Shorthand syntax\n",
    "#condition : statement\n",
    "#true statement : condition : false statement\n",
    "age = 90\n",
    "if age < 100: print(\"not old\")"
   ]
  },
  {
   "cell_type": "code",
   "execution_count": 20,
   "id": "7f858eb1",
   "metadata": {},
   "outputs": [
    {
     "name": "stdout",
     "output_type": "stream",
     "text": [
      "not old\n"
     ]
    }
   ],
   "source": [
    "print(\"not old\") if age < 100 else print(\"old\")"
   ]
  },
  {
   "cell_type": "code",
   "execution_count": 24,
   "id": "2932f778",
   "metadata": {},
   "outputs": [
    {
     "name": "stdout",
     "output_type": "stream",
     "text": [
      "less than\n"
     ]
    }
   ],
   "source": [
    "x = 9\n",
    "y = 10\n",
    "print(\"equal\") if x == y else print(\"greater\") if x > y else print(\"less than\")"
   ]
  },
  {
   "cell_type": "markdown",
   "id": "96f12337",
   "metadata": {},
   "source": [
    "Conditional Operators"
   ]
  },
  {
   "cell_type": "code",
   "execution_count": 25,
   "id": "370c5094",
   "metadata": {},
   "outputs": [],
   "source": [
    "#equals\n",
    "\n",
    "if x == y:\n",
    "    print(\"equals\")\n",
    "    \n",
    "#not equal\n",
    "if x != y:\n",
    "    print(\"not equal\")"
   ]
  },
  {
   "cell_type": "code",
   "execution_count": null,
   "id": "3f8c7df4",
   "metadata": {},
   "outputs": [],
   "source": []
  }
 ],
 "metadata": {
  "kernelspec": {
   "display_name": "Python 3 (ipykernel)",
   "language": "python",
   "name": "python3"
  },
  "language_info": {
   "codemirror_mode": {
    "name": "ipython",
    "version": 3
   },
   "file_extension": ".py",
   "mimetype": "text/x-python",
   "name": "python",
   "nbconvert_exporter": "python",
   "pygments_lexer": "ipython3",
   "version": "3.10.9"
  }
 },
 "nbformat": 4,
 "nbformat_minor": 5
}
