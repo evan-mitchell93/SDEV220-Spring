{
 "cells": [
  {
   "cell_type": "markdown",
   "id": "056b36a7",
   "metadata": {},
   "source": [
    "Module 2 Python Examples\n",
    "Evan Mitchell\n",
    "03/25/2024\n",
    "\n",
    "Basic Structures\n",
    "Strings\n",
    "Special functions\n",
    "Formatting\n",
    "Operators"
   ]
  },
  {
   "cell_type": "code",
   "execution_count": 1,
   "id": "779ef484",
   "metadata": {},
   "outputs": [
    {
     "data": {
      "text/plain": [
       "3"
      ]
     },
     "execution_count": 1,
     "metadata": {},
     "output_type": "execute_result"
    }
   ],
   "source": [
    "#This is a single line comment\n",
    "x = 3 #assignment of a variable\n",
    "x"
   ]
  },
  {
   "cell_type": "code",
   "execution_count": 2,
   "id": "d13dc165",
   "metadata": {},
   "outputs": [],
   "source": [
    "\"\"\"Either use\n",
    "    as multi line\n",
    "    or description\n",
    "\"\"\"\n",
    "\n",
    "def my_func(x):\n",
    "    \"\"\"Takes an integer x as argument\"\"\"\n",
    "    return x + 2"
   ]
  },
  {
   "cell_type": "markdown",
   "id": "902572d2",
   "metadata": {},
   "source": []
  },
  {
   "cell_type": "code",
   "execution_count": 3,
   "id": "7ffbe3a8",
   "metadata": {},
   "outputs": [
    {
     "name": "stdout",
     "output_type": "stream",
     "text": [
      "Help on function my_func in module __main__:\n",
      "\n",
      "my_func(x)\n",
      "    Takes an integer x as argument\n",
      "\n"
     ]
    }
   ],
   "source": [
    "help(my_func)"
   ]
  },
  {
   "cell_type": "markdown",
   "id": "bae68495",
   "metadata": {},
   "source": [
    "Continuation using \\ and ()"
   ]
  },
  {
   "cell_type": "code",
   "execution_count": 5,
   "id": "9941bb1a",
   "metadata": {},
   "outputs": [
    {
     "data": {
      "text/plain": [
       "7"
      ]
     },
     "execution_count": 5,
     "metadata": {},
     "output_type": "execute_result"
    }
   ],
   "source": [
    "cont_var = 3 + \\\n",
    "4\n",
    "\n",
    "cont_var"
   ]
  },
  {
   "cell_type": "code",
   "execution_count": 7,
   "id": "50fa7448",
   "metadata": {},
   "outputs": [
    {
     "data": {
      "text/plain": [
       "56"
      ]
     },
     "execution_count": 7,
     "metadata": {},
     "output_type": "execute_result"
    }
   ],
   "source": [
    "paren_cont = ( 7\n",
    "             *\n",
    "             8)\n",
    "paren_cont"
   ]
  },
  {
   "cell_type": "markdown",
   "id": "9a5d47fc",
   "metadata": {},
   "source": [
    "Selection/Decision Structures"
   ]
  },
  {
   "cell_type": "code",
   "execution_count": 10,
   "id": "60f12245",
   "metadata": {},
   "outputs": [
    {
     "name": "stdout",
     "output_type": "stream",
     "text": [
      "Not old\n"
     ]
    }
   ],
   "source": [
    "age = 99\n",
    "if age < 100:\n",
    "    print(\"Not old\")"
   ]
  },
  {
   "cell_type": "code",
   "execution_count": 14,
   "id": "ed5614ca",
   "metadata": {},
   "outputs": [
    {
     "name": "stdout",
     "output_type": "stream",
     "text": [
      "Old\n"
     ]
    }
   ],
   "source": [
    "age = 100\n",
    "if age < 100:\n",
    "    print(\"Not old\")\n",
    "else:\n",
    "    print(\"Old\")"
   ]
  },
  {
   "cell_type": "markdown",
   "id": "3ec2f9df",
   "metadata": {},
   "source": [
    "Nested Ifs"
   ]
  },
  {
   "cell_type": "code",
   "execution_count": null,
   "id": "743c12d0",
   "metadata": {},
   "outputs": [],
   "source": [
    "if age < 100:\n",
    "    if country == \"USA\":\n",
    "        print(\"USA USA\")\n",
    "    else:\n",
    "        print(\"NOT USA\")\n",
    "else:\n",
    "    if country == \"USA\":\n",
    "        print(\"OK\")\n",
    "        \n",
    "#Nothing happens in the case age is 100 or greater\n",
    "# and country is something other than USA\n"
   ]
  },
  {
   "cell_type": "code",
   "execution_count": 15,
   "id": "62a320b6",
   "metadata": {},
   "outputs": [
    {
     "name": "stdout",
     "output_type": "stream",
     "text": [
      "equal to\n"
     ]
    }
   ],
   "source": [
    "a = 10\n",
    "b = 10\n",
    "if b < a:\n",
    "    print(\"less than\")\n",
    "elif b == a:\n",
    "    print(\"equal to\")\n",
    "else:\n",
    "    print(\"greater than\")"
   ]
  },
  {
   "cell_type": "code",
   "execution_count": 19,
   "id": "62967994",
   "metadata": {},
   "outputs": [
    {
     "name": "stdout",
     "output_type": "stream",
     "text": [
      "not old\n"
     ]
    }
   ],
   "source": [
    "#Shorthand syntax\n",
    "#condition : statement\n",
    "#true statement : condition : false statement\n",
    "age = 90\n",
    "if age < 100: print(\"not old\")"
   ]
  },
  {
   "cell_type": "code",
   "execution_count": 20,
   "id": "5a481633",
   "metadata": {},
   "outputs": [
    {
     "name": "stdout",
     "output_type": "stream",
     "text": [
      "not old\n"
     ]
    }
   ],
   "source": [
    "print(\"not old\") if age < 100 else print(\"old\")"
   ]
  },
  {
   "cell_type": "code",
   "execution_count": 24,
   "id": "fdb424f2",
   "metadata": {},
   "outputs": [
    {
     "name": "stdout",
     "output_type": "stream",
     "text": [
      "less than\n"
     ]
    }
   ],
   "source": [
    "x = 9\n",
    "y = 10\n",
    "print(\"equal\") if x == y else print(\"greater\") if x > y else print(\"less than\")"
   ]
  },
  {
   "cell_type": "markdown",
   "id": "aad74184",
   "metadata": {},
   "source": [
    "Conditional Operators"
   ]
  },
  {
   "cell_type": "code",
   "execution_count": 27,
   "id": "f2f45eb1",
   "metadata": {},
   "outputs": [
    {
     "name": "stdout",
     "output_type": "stream",
     "text": [
      "not equal\n",
      "less or equal\n"
     ]
    }
   ],
   "source": [
    "#equals\n",
    "\n",
    "if x == y:\n",
    "    print(\"equals\")\n",
    "    \n",
    "#not equal\n",
    "if x != y:\n",
    "    print(\"not equal\")\n",
    "\n",
    "#greater than and less than exclude value on right\n",
    "\n",
    "#greater than or equal to, less than or equal to include value on right\n",
    "\n",
    "if x <= y:\n",
    "    print(\"less or equal\")"
   ]
  },
  {
   "cell_type": "markdown",
   "id": "05d92d1f",
   "metadata": {},
   "source": [
    "Logical Operators AND OR NOT\n",
    "\n",
    "Expression OPERATOR Expression\n",
    "\n",
    "AND both expressions MUST return true\n",
    "OR one or both expressions returns true"
   ]
  },
  {
   "cell_type": "code",
   "execution_count": 33,
   "id": "5df41a4d",
   "metadata": {},
   "outputs": [
    {
     "name": "stdout",
     "output_type": "stream",
     "text": [
      "Or True\n",
      "Hello\n"
     ]
    }
   ],
   "source": [
    "x = 10\n",
    "y = 10\n",
    "\n",
    "if x <= y and y != x:\n",
    "    print(\"And True\")\n",
    "\n",
    "if x <= y or y != x:\n",
    "    print(\"Or True\")\n",
    "    \n",
    "if not x != y:\n",
    "    print(\"Hello\")"
   ]
  },
  {
   "cell_type": "markdown",
   "id": "be473a6c",
   "metadata": {},
   "source": [
    "STRINGS: Sequences of characters"
   ]
  },
  {
   "cell_type": "code",
   "execution_count": 35,
   "id": "cb1b68d3",
   "metadata": {},
   "outputs": [
    {
     "data": {
      "text/plain": [
       "'3'"
      ]
     },
     "execution_count": 35,
     "metadata": {},
     "output_type": "execute_result"
    }
   ],
   "source": [
    "my_string = \"Text of some kind\"\n",
    "my_numString = \"3\"\n",
    "my_quotes = 'He said \"Hello\"'\n",
    "my_single = \"He said 'Single quote'\"\n",
    "x = 3\n",
    "str(x)"
   ]
  },
  {
   "cell_type": "code",
   "execution_count": 41,
   "id": "3eca55b9",
   "metadata": {},
   "outputs": [
    {
     "name": "stdout",
     "output_type": "stream",
     "text": [
      "hello \n",
      "Welcome to \tSDEV 220\n"
     ]
    }
   ],
   "source": [
    "my_paragraph = \"hello \\nWelcome to \\tSDEV 220\"\n",
    "print(my_paragraph)"
   ]
  },
  {
   "cell_type": "code",
   "execution_count": 44,
   "id": "783cbb16",
   "metadata": {},
   "outputs": [
    {
     "data": {
      "text/plain": [
       "'Hello SDEV220'"
      ]
     },
     "execution_count": 44,
     "metadata": {},
     "output_type": "execute_result"
    }
   ],
   "source": [
    "x = \"Hello SDEV\" + \"220\"\n",
    "x"
   ]
  },
  {
   "cell_type": "code",
   "execution_count": 47,
   "id": "6544245c",
   "metadata": {},
   "outputs": [
    {
     "name": "stdout",
     "output_type": "stream",
     "text": [
      "hello world\n"
     ]
    }
   ],
   "source": [
    "str1 = \"hello\"\n",
    "str2 = \"world\"\n",
    "print(str1,str2)"
   ]
  },
  {
   "cell_type": "code",
   "execution_count": 50,
   "id": "57ff8b07",
   "metadata": {},
   "outputs": [
    {
     "name": "stdout",
     "output_type": "stream",
     "text": [
      "Hello Hello Hello Hello Hello \n",
      "1111111111\n"
     ]
    }
   ],
   "source": [
    "print(\"Hello \" * 5)\n",
    "print(\"1\" * 10)"
   ]
  },
  {
   "cell_type": "code",
   "execution_count": 54,
   "id": "6eeb7a45",
   "metadata": {},
   "outputs": [
    {
     "name": "stdout",
     "output_type": "stream",
     "text": [
      "Hello Goodbye Goodbye Goodbye \n",
      "Hello Goodbye Hello Goodbye Hello Goodbye \n"
     ]
    }
   ],
   "source": [
    "print(\"Hello \" + \"Goodbye \" * 3)\n",
    "print((\"Hello \" + \"Goodbye \") * 3)"
   ]
  },
  {
   "cell_type": "code",
   "execution_count": 57,
   "id": "e95665d0",
   "metadata": {},
   "outputs": [
    {
     "data": {
      "text/plain": [
       "'h'"
      ]
     },
     "execution_count": 57,
     "metadata": {},
     "output_type": "execute_result"
    }
   ],
   "source": [
    "str1[0]\n",
    "#offset/index starts at 0"
   ]
  },
  {
   "cell_type": "code",
   "execution_count": 59,
   "id": "461ee72e",
   "metadata": {},
   "outputs": [
    {
     "data": {
      "text/plain": [
       "'l'"
      ]
     },
     "execution_count": 59,
     "metadata": {},
     "output_type": "execute_result"
    }
   ],
   "source": [
    "str1[-3]"
   ]
  },
  {
   "cell_type": "code",
   "execution_count": 60,
   "id": "7ccbfdf3",
   "metadata": {},
   "outputs": [
    {
     "data": {
      "text/plain": [
       "'Hello DBMS 110, welcome to week 2'"
      ]
     },
     "execution_count": 60,
     "metadata": {},
     "output_type": "execute_result"
    }
   ],
   "source": [
    "my_str = \"Hello DBMS 110, welcome to week 2\"\n",
    "my_str[:]"
   ]
  },
  {
   "cell_type": "code",
   "execution_count": 61,
   "id": "92128e4a",
   "metadata": {},
   "outputs": [
    {
     "data": {
      "text/plain": [
       "'ello DBMS 110, welcome to week 2'"
      ]
     },
     "execution_count": 61,
     "metadata": {},
     "output_type": "execute_result"
    }
   ],
   "source": [
    "my_str[1:]"
   ]
  },
  {
   "cell_type": "code",
   "execution_count": 62,
   "id": "060be0c5",
   "metadata": {},
   "outputs": [
    {
     "data": {
      "text/plain": [
       "'Hello'"
      ]
     },
     "execution_count": 62,
     "metadata": {},
     "output_type": "execute_result"
    }
   ],
   "source": [
    "my_str[:5]"
   ]
  },
  {
   "cell_type": "code",
   "execution_count": 63,
   "id": "f2143ade",
   "metadata": {},
   "outputs": [
    {
     "data": {
      "text/plain": [
       "'lo D'"
      ]
     },
     "execution_count": 63,
     "metadata": {},
     "output_type": "execute_result"
    }
   ],
   "source": [
    "my_str[3:7]"
   ]
  },
  {
   "cell_type": "code",
   "execution_count": 69,
   "id": "a0d042bb",
   "metadata": {},
   "outputs": [
    {
     "data": {
      "text/plain": [
       "'HloDM 1,wloet ek2'"
      ]
     },
     "execution_count": 69,
     "metadata": {},
     "output_type": "execute_result"
    }
   ],
   "source": [
    "#[start:stop:step]\n",
    "my_str[::2]"
   ]
  },
  {
   "cell_type": "code",
   "execution_count": 70,
   "id": "69417c58",
   "metadata": {},
   "outputs": [
    {
     "data": {
      "text/plain": [
       "['one', 'two', 'three']"
      ]
     },
     "execution_count": 70,
     "metadata": {},
     "output_type": "execute_result"
    }
   ],
   "source": [
    "my_csv = \"one,two,three\"\n",
    "my_csv.split(',')"
   ]
  },
  {
   "cell_type": "code",
   "execution_count": 71,
   "id": "eac4ef68",
   "metadata": {},
   "outputs": [
    {
     "data": {
      "text/plain": [
       "['one,', 'wo,', 'hree']"
      ]
     },
     "execution_count": 71,
     "metadata": {},
     "output_type": "execute_result"
    }
   ],
   "source": [
    "#separator is removed from the strings in the list\n",
    "my_csv.split('t')"
   ]
  },
  {
   "cell_type": "code",
   "execution_count": 72,
   "id": "260abb9c",
   "metadata": {},
   "outputs": [
    {
     "data": {
      "text/plain": [
       "'Hello SDEV220 It is week 2'"
      ]
     },
     "execution_count": 72,
     "metadata": {},
     "output_type": "execute_result"
    }
   ],
   "source": [
    "my_list = [\"Hello\", \"SDEV220\",\"It is week 2\"]\n",
    "' '.join(my_list)"
   ]
  },
  {
   "cell_type": "code",
   "execution_count": 73,
   "id": "0448e09b",
   "metadata": {},
   "outputs": [
    {
     "data": {
      "text/plain": [
       "'Hello4SDEV2204It is week 2'"
      ]
     },
     "execution_count": 73,
     "metadata": {},
     "output_type": "execute_result"
    }
   ],
   "source": [
    "#separator does not have to be whitespace or punctuation\n",
    "'4'.join(my_list)"
   ]
  },
  {
   "cell_type": "code",
   "execution_count": 74,
   "id": "91b72344",
   "metadata": {},
   "outputs": [
    {
     "data": {
      "text/plain": [
       "'Hello SDEV 220, welcome to week 2'"
      ]
     },
     "execution_count": 74,
     "metadata": {},
     "output_type": "execute_result"
    }
   ],
   "source": [
    "my_str = \"Hello DBMS 110, welcome to week 2\"\n",
    "my_str.replace(\"DBMS 110\",\"SDEV 220\")"
   ]
  },
  {
   "cell_type": "code",
   "execution_count": 76,
   "id": "264ba1ab",
   "metadata": {},
   "outputs": [
    {
     "data": {
      "text/plain": [
       "'Goodbye welcome to Goodbye, this is Hello'"
      ]
     },
     "execution_count": 76,
     "metadata": {},
     "output_type": "execute_result"
    }
   ],
   "source": [
    "test_str = \"Hello welcome to Hello, this is Hello\"\n",
    "test_str.replace(\"Hello\",\"Goodbye\",2)"
   ]
  },
  {
   "cell_type": "code",
   "execution_count": 78,
   "id": "5678e6dc",
   "metadata": {},
   "outputs": [
    {
     "data": {
      "text/plain": [
       "'hello'"
      ]
     },
     "execution_count": 78,
     "metadata": {},
     "output_type": "execute_result"
    }
   ],
   "source": [
    "#strip syntax string.strip([character])\n",
    "strip_str = \"*!!hello*!!\"\n",
    "strip_str.strip(\"*!\")"
   ]
  },
  {
   "cell_type": "code",
   "execution_count": 79,
   "id": "b96ecb1f",
   "metadata": {},
   "outputs": [
    {
     "data": {
      "text/plain": [
       "5"
      ]
     },
     "execution_count": 79,
     "metadata": {},
     "output_type": "execute_result"
    }
   ],
   "source": [
    "test = \"hello\"\n",
    "len(test)"
   ]
  },
  {
   "cell_type": "code",
   "execution_count": 80,
   "id": "6fb55088",
   "metadata": {},
   "outputs": [
    {
     "ename": "IndexError",
     "evalue": "string index out of range",
     "output_type": "error",
     "traceback": [
      "\u001b[1;31m---------------------------------------------------------------------------\u001b[0m",
      "\u001b[1;31mIndexError\u001b[0m                                Traceback (most recent call last)",
      "Cell \u001b[1;32mIn[80], line 1\u001b[0m\n\u001b[1;32m----> 1\u001b[0m \u001b[43mtest\u001b[49m\u001b[43m[\u001b[49m\u001b[38;5;241;43m5\u001b[39;49m\u001b[43m]\u001b[49m\n",
      "\u001b[1;31mIndexError\u001b[0m: string index out of range"
     ]
    }
   ],
   "source": [
    "test[5]"
   ]
  },
  {
   "cell_type": "code",
   "execution_count": 84,
   "id": "404b190e",
   "metadata": {},
   "outputs": [
    {
     "data": {
      "text/plain": [
       "-1"
      ]
     },
     "execution_count": 84,
     "metadata": {},
     "output_type": "execute_result"
    }
   ],
   "source": [
    "#find returns the starting index of a substring\n",
    "#return -1 if substring doesn't exist\n",
    "my_str.find(\"dBMS\")"
   ]
  },
  {
   "cell_type": "code",
   "execution_count": 85,
   "id": "fe472b6d",
   "metadata": {},
   "outputs": [
    {
     "data": {
      "text/plain": [
       "6"
      ]
     },
     "execution_count": 85,
     "metadata": {},
     "output_type": "execute_result"
    }
   ],
   "source": [
    "#index will error if not found\n",
    "my_str.index(\"DBMS\")"
   ]
  },
  {
   "cell_type": "code",
   "execution_count": 86,
   "id": "88eef545",
   "metadata": {},
   "outputs": [
    {
     "ename": "ValueError",
     "evalue": "substring not found",
     "output_type": "error",
     "traceback": [
      "\u001b[1;31m---------------------------------------------------------------------------\u001b[0m",
      "\u001b[1;31mValueError\u001b[0m                                Traceback (most recent call last)",
      "Cell \u001b[1;32mIn[86], line 1\u001b[0m\n\u001b[1;32m----> 1\u001b[0m \u001b[43mmy_str\u001b[49m\u001b[38;5;241;43m.\u001b[39;49m\u001b[43mindex\u001b[49m\u001b[43m(\u001b[49m\u001b[38;5;124;43m\"\u001b[39;49m\u001b[38;5;124;43mdBms\u001b[39;49m\u001b[38;5;124;43m\"\u001b[39;49m\u001b[43m)\u001b[49m\n",
      "\u001b[1;31mValueError\u001b[0m: substring not found"
     ]
    }
   ],
   "source": [
    "my_str.index(\"dBms\")"
   ]
  },
  {
   "cell_type": "code",
   "execution_count": 88,
   "id": "a8e857ff",
   "metadata": {},
   "outputs": [
    {
     "data": {
      "text/plain": [
       "'Hello Evan, you are 30 years old'"
      ]
     },
     "execution_count": 88,
     "metadata": {},
     "output_type": "execute_result"
    }
   ],
   "source": [
    "#New style formatting\n",
    "age = 30\n",
    "name = \"Evan\"\n",
    "\"Hello {}, you are {} years old\".format(name,age)"
   ]
  },
  {
   "cell_type": "code",
   "execution_count": 90,
   "id": "f5b12e06",
   "metadata": {},
   "outputs": [
    {
     "data": {
      "text/plain": [
       "'Answer is 4.45'"
      ]
     },
     "execution_count": 90,
     "metadata": {},
     "output_type": "execute_result"
    }
   ],
   "source": [
    "number1 = 4.450000\n",
    "\"Answer is {:.2f}\".format(number1)"
   ]
  },
  {
   "cell_type": "code",
   "execution_count": 93,
   "id": "faeabd13",
   "metadata": {},
   "outputs": [
    {
     "data": {
      "text/plain": [
       "'Answer is 4.5'"
      ]
     },
     "execution_count": 93,
     "metadata": {},
     "output_type": "execute_result"
    }
   ],
   "source": [
    "f'Answer is {number1:.1f}'"
   ]
  },
  {
   "cell_type": "code",
   "execution_count": 94,
   "id": "a703fbd7",
   "metadata": {},
   "outputs": [
    {
     "data": {
      "text/plain": [
       "'Hello Evan, you are 40 years old'"
      ]
     },
     "execution_count": 94,
     "metadata": {},
     "output_type": "execute_result"
    }
   ],
   "source": [
    "f'Hello {name}, you are {age + 10} years old'"
   ]
  },
  {
   "cell_type": "code",
   "execution_count": 95,
   "id": "dbacced4",
   "metadata": {},
   "outputs": [
    {
     "name": "stdout",
     "output_type": "stream",
     "text": [
      "0\n",
      "1\n",
      "2\n",
      "3\n",
      "4\n",
      "5\n",
      "6\n",
      "7\n",
      "8\n",
      "9\n"
     ]
    }
   ],
   "source": [
    "#counter controlled while loop\n",
    "x = 0\n",
    "while x < 10:\n",
    "    print(x)\n",
    "    x+=1"
   ]
  },
  {
   "cell_type": "code",
   "execution_count": 97,
   "id": "4de0579d",
   "metadata": {},
   "outputs": [
    {
     "name": "stdout",
     "output_type": "stream",
     "text": [
      "Enter a name: STOP\n"
     ]
    }
   ],
   "source": [
    "#Sentinel controlled loop\n",
    "name = input(\"Enter a name: \")\n",
    "while name != \"STOP\":\n",
    "    print(name)\n",
    "    name = input(\"Enter a name: \")"
   ]
  },
  {
   "cell_type": "code",
   "execution_count": 98,
   "id": "8d3a8f34",
   "metadata": {},
   "outputs": [
    {
     "name": "stdout",
     "output_type": "stream",
     "text": [
      "Enter a number: 1\n",
      "1\n",
      "Enter a number: 2\n",
      "2\n",
      "Enter a number: -11\n",
      "-11\n",
      "Enter a number: -1\n"
     ]
    }
   ],
   "source": [
    "while True:\n",
    "    my_num = int(input(\"Enter a number: \"))\n",
    "    if my_num == -1:\n",
    "        break\n",
    "    print(my_num)"
   ]
  },
  {
   "cell_type": "code",
   "execution_count": 101,
   "id": "7077cc67",
   "metadata": {},
   "outputs": [
    {
     "name": "stdout",
     "output_type": "stream",
     "text": [
      "29  is odd\n",
      "27  is odd\n",
      "25  is odd\n",
      "23  is odd\n",
      "21  is odd\n",
      "19  is odd\n",
      "17  is odd\n",
      "15  is odd\n",
      "13  is odd\n",
      "11  is odd\n",
      "9  is odd\n",
      "7  is odd\n",
      "5  is odd\n",
      "3  is odd\n",
      "1  is odd\n"
     ]
    }
   ],
   "source": [
    "x = 30\n",
    "while x > 0:\n",
    "    if x % 2 == 0:\n",
    "        x -=1\n",
    "        continue\n",
    "    print(x, \" is odd\")\n",
    "    x -= 1"
   ]
  },
  {
   "cell_type": "code",
   "execution_count": 103,
   "id": "816ab283",
   "metadata": {},
   "outputs": [
    {
     "name": "stdout",
     "output_type": "stream",
     "text": [
      "15 greater than 10\n"
     ]
    }
   ],
   "source": [
    "#else only happens if break never occurs\n",
    "my_nums = [1,2,3,4]\n",
    "i = 0\n",
    "sum = 0\n",
    "while i < len(my_nums):\n",
    "    sum = sum + my_nums[i]\n",
    "    if sum > 10:\n",
    "        print(sum,\"greater than 10\")\n",
    "        break\n",
    "    i += 1\n",
    "else:\n",
    "    print(\"Sum never exceeded 10\")"
   ]
  },
  {
   "cell_type": "code",
   "execution_count": 107,
   "id": "d008cda6",
   "metadata": {},
   "outputs": [
    {
     "name": "stdout",
     "output_type": "stream",
     "text": [
      "1\n",
      "3\n",
      "5\n",
      "7\n",
      "9\n"
     ]
    }
   ],
   "source": [
    "for x in range(1,10,2):\n",
    "    print(x)"
   ]
  },
  {
   "cell_type": "code",
   "execution_count": 106,
   "id": "d73b3792",
   "metadata": {},
   "outputs": [
    {
     "data": {
      "text/plain": [
       "[0, 1, 2, 3, 4, 5, 6, 7, 8, 9]"
      ]
     },
     "execution_count": 106,
     "metadata": {},
     "output_type": "execute_result"
    }
   ],
   "source": [
    "list(range(10))"
   ]
  },
  {
   "cell_type": "code",
   "execution_count": 108,
   "id": "0149c495",
   "metadata": {},
   "outputs": [
    {
     "name": "stdout",
     "output_type": "stream",
     "text": [
      "H\n",
      "e\n",
      "l\n",
      "l\n",
      "o\n",
      " \n",
      "D\n",
      "B\n",
      "M\n",
      "S\n",
      " \n",
      "1\n",
      "1\n",
      "0\n",
      ",\n",
      " \n",
      "w\n",
      "e\n",
      "l\n",
      "c\n",
      "o\n",
      "m\n",
      "e\n",
      " \n",
      "t\n",
      "o\n",
      " \n",
      "w\n",
      "e\n",
      "e\n",
      "k\n",
      " \n",
      "2\n"
     ]
    }
   ],
   "source": [
    "for c in my_str:\n",
    "    print(c)"
   ]
  },
  {
   "cell_type": "code",
   "execution_count": null,
   "id": "38d7bd38",
   "metadata": {},
   "outputs": [],
   "source": []
  }
 ],
 "metadata": {
  "kernelspec": {
   "display_name": "Python 3 (ipykernel)",
   "language": "python",
   "name": "python3"
  },
  "language_info": {
   "codemirror_mode": {
    "name": "ipython",
    "version": 3
   },
   "file_extension": ".py",
   "mimetype": "text/x-python",
   "name": "python",
   "nbconvert_exporter": "python",
   "pygments_lexer": "ipython3",
   "version": "3.10.9"
  }
 },
 "nbformat": 4,
 "nbformat_minor": 5
}
