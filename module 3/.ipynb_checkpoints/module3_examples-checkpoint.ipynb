{
 "cells": [
  {
   "cell_type": "markdown",
   "id": "09f6a9c5",
   "metadata": {},
   "source": [
    "Module 3 Lecture examples\n",
    "Evan Mitchell\n",
    "4/1/2024\n",
    "\n",
    "Collections, Functions, Classes"
   ]
  },
  {
   "cell_type": "code",
   "execution_count": 1,
   "id": "1c10b637",
   "metadata": {},
   "outputs": [
    {
     "data": {
      "text/plain": [
       "(2, 4)"
      ]
     },
     "execution_count": 1,
     "metadata": {},
     "output_type": "execute_result"
    }
   ],
   "source": [
    "my_tuple = (2,4)\n",
    "my_tuple"
   ]
  },
  {
   "cell_type": "code",
   "execution_count": 2,
   "id": "033a03bb",
   "metadata": {},
   "outputs": [
    {
     "ename": "TypeError",
     "evalue": "'tuple' object does not support item assignment",
     "output_type": "error",
     "traceback": [
      "\u001b[1;31m---------------------------------------------------------------------------\u001b[0m",
      "\u001b[1;31mTypeError\u001b[0m                                 Traceback (most recent call last)",
      "Cell \u001b[1;32mIn[2], line 1\u001b[0m\n\u001b[1;32m----> 1\u001b[0m my_tuple[\u001b[38;5;241m1\u001b[39m] \u001b[38;5;241m=\u001b[39m \u001b[38;5;241m5\u001b[39m\n",
      "\u001b[1;31mTypeError\u001b[0m: 'tuple' object does not support item assignment"
     ]
    }
   ],
   "source": [
    "my_tuple[1] = 5"
   ]
  },
  {
   "cell_type": "code",
   "execution_count": 5,
   "id": "90ed79d5",
   "metadata": {},
   "outputs": [
    {
     "data": {
      "text/plain": [
       "('Hello',)"
      ]
     },
     "execution_count": 5,
     "metadata": {},
     "output_type": "execute_result"
    }
   ],
   "source": [
    "string_tuple = (\"Hello\",)\n",
    "string_tuple"
   ]
  },
  {
   "cell_type": "code",
   "execution_count": 6,
   "id": "5fb96c03",
   "metadata": {},
   "outputs": [
    {
     "data": {
      "text/plain": [
       "tuple"
      ]
     },
     "execution_count": 6,
     "metadata": {},
     "output_type": "execute_result"
    }
   ],
   "source": [
    "type(string_tuple)"
   ]
  },
  {
   "cell_type": "code",
   "execution_count": 7,
   "id": "39398337",
   "metadata": {},
   "outputs": [
    {
     "data": {
      "text/plain": [
       "('Hello', 'Hello', 'Hello')"
      ]
     },
     "execution_count": 7,
     "metadata": {},
     "output_type": "execute_result"
    }
   ],
   "source": [
    "string_tuple2 = (\"Hello\",) * 3\n",
    "string_tuple2"
   ]
  },
  {
   "cell_type": "code",
   "execution_count": 8,
   "id": "cb13ad80",
   "metadata": {},
   "outputs": [
    {
     "data": {
      "text/plain": [
       "2"
      ]
     },
     "execution_count": 8,
     "metadata": {},
     "output_type": "execute_result"
    }
   ],
   "source": [
    "my_t = (2,3,4)\n",
    "x,y,z = my_t\n",
    "x"
   ]
  },
  {
   "cell_type": "code",
   "execution_count": 9,
   "id": "9da357b3",
   "metadata": {},
   "outputs": [
    {
     "data": {
      "text/plain": [
       "3"
      ]
     },
     "execution_count": 9,
     "metadata": {},
     "output_type": "execute_result"
    }
   ],
   "source": [
    "y"
   ]
  },
  {
   "cell_type": "code",
   "execution_count": 10,
   "id": "a2cb4424",
   "metadata": {},
   "outputs": [
    {
     "name": "stdout",
     "output_type": "stream",
     "text": [
      "3 2\n"
     ]
    }
   ],
   "source": [
    "#old lame way of swapping\n",
    "temp = x\n",
    "x = y\n",
    "y = temp\n",
    "print(x,y)"
   ]
  },
  {
   "cell_type": "code",
   "execution_count": 11,
   "id": "903f99d2",
   "metadata": {},
   "outputs": [
    {
     "name": "stdout",
     "output_type": "stream",
     "text": [
      "200 100\n"
     ]
    }
   ],
   "source": [
    "#swapping with a tuple\n",
    "var1 = 100\n",
    "var2 = 200\n",
    "var1,var2 = (var2,var1)\n",
    "print(var1,var2)"
   ]
  },
  {
   "cell_type": "code",
   "execution_count": 12,
   "id": "0c513f12",
   "metadata": {},
   "outputs": [
    {
     "data": {
      "text/plain": [
       "(3, 4)"
      ]
     },
     "execution_count": 12,
     "metadata": {},
     "output_type": "execute_result"
    }
   ],
   "source": [
    "my_t[1:]"
   ]
  },
  {
   "cell_type": "markdown",
   "id": "88aa2179",
   "metadata": {},
   "source": [
    "Practice Problem:\n",
    "\n",
    "Create a program to add an item to a tuple\n",
    "starting = (4,6,2,8,3,1)\n",
    "Add/Merge a 9 to the end of the tuple.\n",
    "\n",
    "Second part:\n",
    "(4,6,2,8,3,1,9)\n",
    "\n",
    "create 1 large tuple\n",
    "first 5 elements from above, 15,20,25, first 5 elements from above\n",
    "\n",
    "(4,6,2,8,3,15,20,25,4,6,2,8,3)\n",
    "\n",
    "\n",
    "\n"
   ]
  },
  {
   "cell_type": "code",
   "execution_count": 16,
   "id": "c0b0f24e",
   "metadata": {},
   "outputs": [
    {
     "data": {
      "text/plain": [
       "(4, 6, 2, 8, 3, 1, 9)"
      ]
     },
     "execution_count": 16,
     "metadata": {},
     "output_type": "execute_result"
    }
   ],
   "source": [
    "starting = (4,6,2,8,3,1)\n",
    "result = starting + (9,)\n",
    "result"
   ]
  },
  {
   "cell_type": "code",
   "execution_count": 17,
   "id": "39b5c320",
   "metadata": {},
   "outputs": [
    {
     "data": {
      "text/plain": [
       "(4, 6, 2, 8, 3, 15, 20, 25, 4, 6, 2, 8, 3)"
      ]
     },
     "execution_count": 17,
     "metadata": {},
     "output_type": "execute_result"
    }
   ],
   "source": [
    "middle = (15,20,25)\n",
    "total_result = result[:5] + middle + result[:5]\n",
    "total_result\n"
   ]
  },
  {
   "cell_type": "markdown",
   "id": "a0e2a252",
   "metadata": {},
   "source": [
    "Lists"
   ]
  },
  {
   "cell_type": "code",
   "execution_count": 24,
   "id": "b7704152",
   "metadata": {},
   "outputs": [
    {
     "data": {
      "text/plain": [
       "3"
      ]
     },
     "execution_count": 24,
     "metadata": {},
     "output_type": "execute_result"
    }
   ],
   "source": [
    "my_list = [1,2,3]\n",
    "my_list[2]"
   ]
  },
  {
   "cell_type": "code",
   "execution_count": 25,
   "id": "d768de79",
   "metadata": {},
   "outputs": [
    {
     "data": {
      "text/plain": [
       "[1, 2]"
      ]
     },
     "execution_count": 25,
     "metadata": {},
     "output_type": "execute_result"
    }
   ],
   "source": [
    "my_list[:2]"
   ]
  },
  {
   "cell_type": "code",
   "execution_count": 26,
   "id": "7516b3ce",
   "metadata": {},
   "outputs": [],
   "source": [
    "my_list.append(4)"
   ]
  },
  {
   "cell_type": "code",
   "execution_count": 27,
   "id": "a82fab98",
   "metadata": {},
   "outputs": [
    {
     "data": {
      "text/plain": [
       "[1, 2, 3, 4]"
      ]
     },
     "execution_count": 27,
     "metadata": {},
     "output_type": "execute_result"
    }
   ],
   "source": [
    "my_list"
   ]
  },
  {
   "cell_type": "code",
   "execution_count": 28,
   "id": "85c50670",
   "metadata": {},
   "outputs": [
    {
     "data": {
      "text/plain": [
       "[1, 2, 7, 3, 4]"
      ]
     },
     "execution_count": 28,
     "metadata": {},
     "output_type": "execute_result"
    }
   ],
   "source": [
    "my_list.insert(2,7)\n",
    "my_list"
   ]
  },
  {
   "cell_type": "code",
   "execution_count": 29,
   "id": "1f5fd50b",
   "metadata": {},
   "outputs": [
    {
     "data": {
      "text/plain": [
       "[1, 7, 3, 4]"
      ]
     },
     "execution_count": 29,
     "metadata": {},
     "output_type": "execute_result"
    }
   ],
   "source": [
    "del my_list[1]\n",
    "my_list"
   ]
  },
  {
   "cell_type": "code",
   "execution_count": 30,
   "id": "3c81c9f9",
   "metadata": {},
   "outputs": [
    {
     "data": {
      "text/plain": [
       "[1, 3, 4]"
      ]
     },
     "execution_count": 30,
     "metadata": {},
     "output_type": "execute_result"
    }
   ],
   "source": [
    "my_list.remove(7)\n",
    "my_list"
   ]
  },
  {
   "cell_type": "code",
   "execution_count": 31,
   "id": "9adfabbb",
   "metadata": {},
   "outputs": [
    {
     "data": {
      "text/plain": [
       "[4, 3, 1]"
      ]
     },
     "execution_count": 31,
     "metadata": {},
     "output_type": "execute_result"
    }
   ],
   "source": [
    "my_list[0],my_list[2] = my_list[2],my_list[0]\n",
    "\n",
    "my_list"
   ]
  },
  {
   "cell_type": "code",
   "execution_count": 32,
   "id": "147907bf",
   "metadata": {},
   "outputs": [
    {
     "data": {
      "text/plain": [
       "12"
      ]
     },
     "execution_count": 32,
     "metadata": {},
     "output_type": "execute_result"
    }
   ],
   "source": [
    "#quick function\n",
    "def my_func(x,y):\n",
    "    return x * y\n",
    "\n",
    "my_func(3,4)"
   ]
  },
  {
   "cell_type": "markdown",
   "id": "5be9f32b",
   "metadata": {},
   "source": [
    "Write a function to reverse a list at a specific location\n",
    "function params: list, start_pos, end_pos, Return the list\n",
    "\n",
    "[1,2,3,4,5] , 1, 4\n",
    "\n",
    "[1,5,4,3,2]\n",
    "\n",
    "1\n",
    "4\n",
    "swap the 2 and the 5\n",
    "start + 1\n",
    "end - 1\n",
    "swap 3 and 4\n",
    "start = end"
   ]
  },
  {
   "cell_type": "code",
   "execution_count": 34,
   "id": "865b2622",
   "metadata": {},
   "outputs": [
    {
     "name": "stdout",
     "output_type": "stream",
     "text": [
      "[1, 5, 4, 3, 2]\n",
      "[10, 20, 50, 40, 30, 60, 70, 80]\n"
     ]
    }
   ],
   "source": [
    "def reverse_list(lst,start_pos,stop_pos):\n",
    "    while start_pos < stop_pos:\n",
    "        lst[start_pos],lst[stop_pos] = lst[stop_pos],lst[start_pos]\n",
    "        start_pos += 1\n",
    "        stop_pos -= 1\n",
    "    return lst\n",
    "\n",
    "print(reverse_list([1,2,3,4,5],1,4))\n",
    "print(reverse_list([10,20,30,40,50,60,70,80],2,4))"
   ]
  },
  {
   "cell_type": "code",
   "execution_count": 35,
   "id": "b7e02614",
   "metadata": {},
   "outputs": [
    {
     "name": "stdout",
     "output_type": "stream",
     "text": [
      "Golden L 3\n",
      "Lab L 1\n",
      "Husky L 2\n",
      "Slinky S 5\n"
     ]
    }
   ],
   "source": [
    "#zip for iteration over multiple lists at the same time\n",
    "dogs = ['Golden','Lab','Husky','Slinky']\n",
    "sizes = ['L','L','L','S']\n",
    "ages = [3,1,2,5]\n",
    "\n",
    "for dog,size,age in zip(dogs,sizes,ages):\n",
    "    print(dog,size,age)"
   ]
  },
  {
   "cell_type": "code",
   "execution_count": 36,
   "id": "db0c9694",
   "metadata": {},
   "outputs": [
    {
     "data": {
      "text/plain": [
       "[('Golden', 'L', 3), ('Lab', 'L', 1), ('Husky', 'L', 2), ('Slinky', 'S', 5)]"
      ]
     },
     "execution_count": 36,
     "metadata": {},
     "output_type": "execute_result"
    }
   ],
   "source": [
    "#list of tuples from zip\n",
    "list(zip(dogs,sizes,ages))"
   ]
  },
  {
   "cell_type": "code",
   "execution_count": null,
   "id": "596fcce0",
   "metadata": {},
   "outputs": [],
   "source": [
    "#dictionaries\n",
    "dct = {\n",
    "    \"Name\":\"Evan\",\n",
    "    \"School\":\"IvyTech\",\n",
    "    \"Grade\": 9999999\n",
    "}"
   ]
  }
 ],
 "metadata": {
  "kernelspec": {
   "display_name": "Python 3 (ipykernel)",
   "language": "python",
   "name": "python3"
  },
  "language_info": {
   "codemirror_mode": {
    "name": "ipython",
    "version": 3
   },
   "file_extension": ".py",
   "mimetype": "text/x-python",
   "name": "python",
   "nbconvert_exporter": "python",
   "pygments_lexer": "ipython3",
   "version": "3.10.9"
  }
 },
 "nbformat": 4,
 "nbformat_minor": 5
}
