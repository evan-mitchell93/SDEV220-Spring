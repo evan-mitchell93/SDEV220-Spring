{
 "cells": [
  {
   "cell_type": "markdown",
   "id": "67576d87",
   "metadata": {},
   "source": [
    "Module 3 Lecture examples\n",
    "Evan Mitchell\n",
    "4/1/2024\n",
    "\n",
    "Collections, Functions, Classes"
   ]
  },
  {
   "cell_type": "code",
   "execution_count": 1,
   "id": "b7f4cfb3",
   "metadata": {},
   "outputs": [
    {
     "data": {
      "text/plain": [
       "(2, 4)"
      ]
     },
     "execution_count": 1,
     "metadata": {},
     "output_type": "execute_result"
    }
   ],
   "source": [
    "my_tuple = (2,4)\n",
    "my_tuple"
   ]
  },
  {
   "cell_type": "code",
   "execution_count": 2,
   "id": "4eaf233a",
   "metadata": {},
   "outputs": [
    {
     "ename": "TypeError",
     "evalue": "'tuple' object does not support item assignment",
     "output_type": "error",
     "traceback": [
      "\u001b[1;31m---------------------------------------------------------------------------\u001b[0m",
      "\u001b[1;31mTypeError\u001b[0m                                 Traceback (most recent call last)",
      "Cell \u001b[1;32mIn[2], line 1\u001b[0m\n\u001b[1;32m----> 1\u001b[0m my_tuple[\u001b[38;5;241m1\u001b[39m] \u001b[38;5;241m=\u001b[39m \u001b[38;5;241m5\u001b[39m\n",
      "\u001b[1;31mTypeError\u001b[0m: 'tuple' object does not support item assignment"
     ]
    }
   ],
   "source": [
    "my_tuple[1] = 5"
   ]
  },
  {
   "cell_type": "code",
   "execution_count": 5,
   "id": "ab29f752",
   "metadata": {},
   "outputs": [
    {
     "data": {
      "text/plain": [
       "('Hello',)"
      ]
     },
     "execution_count": 5,
     "metadata": {},
     "output_type": "execute_result"
    }
   ],
   "source": [
    "string_tuple = (\"Hello\",)\n",
    "string_tuple"
   ]
  },
  {
   "cell_type": "code",
   "execution_count": 6,
   "id": "c359d8e1",
   "metadata": {},
   "outputs": [
    {
     "data": {
      "text/plain": [
       "tuple"
      ]
     },
     "execution_count": 6,
     "metadata": {},
     "output_type": "execute_result"
    }
   ],
   "source": [
    "type(string_tuple)"
   ]
  },
  {
   "cell_type": "code",
   "execution_count": 7,
   "id": "a3cba709",
   "metadata": {},
   "outputs": [
    {
     "data": {
      "text/plain": [
       "('Hello', 'Hello', 'Hello')"
      ]
     },
     "execution_count": 7,
     "metadata": {},
     "output_type": "execute_result"
    }
   ],
   "source": [
    "string_tuple2 = (\"Hello\",) * 3\n",
    "string_tuple2"
   ]
  },
  {
   "cell_type": "code",
   "execution_count": 8,
   "id": "9027910e",
   "metadata": {},
   "outputs": [
    {
     "data": {
      "text/plain": [
       "2"
      ]
     },
     "execution_count": 8,
     "metadata": {},
     "output_type": "execute_result"
    }
   ],
   "source": [
    "my_t = (2,3,4)\n",
    "x,y,z = my_t\n",
    "x"
   ]
  },
  {
   "cell_type": "code",
   "execution_count": 9,
   "id": "a7b454a2",
   "metadata": {},
   "outputs": [
    {
     "data": {
      "text/plain": [
       "3"
      ]
     },
     "execution_count": 9,
     "metadata": {},
     "output_type": "execute_result"
    }
   ],
   "source": [
    "y"
   ]
  },
  {
   "cell_type": "code",
   "execution_count": 10,
   "id": "b3eda3c9",
   "metadata": {},
   "outputs": [
    {
     "name": "stdout",
     "output_type": "stream",
     "text": [
      "3 2\n"
     ]
    }
   ],
   "source": [
    "#old lame way of swapping\n",
    "temp = x\n",
    "x = y\n",
    "y = temp\n",
    "print(x,y)"
   ]
  },
  {
   "cell_type": "code",
   "execution_count": 11,
   "id": "4b107ca4",
   "metadata": {},
   "outputs": [
    {
     "name": "stdout",
     "output_type": "stream",
     "text": [
      "200 100\n"
     ]
    }
   ],
   "source": [
    "#swapping with a tuple\n",
    "var1 = 100\n",
    "var2 = 200\n",
    "var1,var2 = (var2,var1)\n",
    "print(var1,var2)"
   ]
  },
  {
   "cell_type": "code",
   "execution_count": 12,
   "id": "dcd257f5",
   "metadata": {},
   "outputs": [
    {
     "data": {
      "text/plain": [
       "(3, 4)"
      ]
     },
     "execution_count": 12,
     "metadata": {},
     "output_type": "execute_result"
    }
   ],
   "source": [
    "my_t[1:]"
   ]
  },
  {
   "cell_type": "markdown",
   "id": "875cf72e",
   "metadata": {},
   "source": [
    "Practice Problem:\n",
    "\n",
    "Create a program to add an item to a tuple\n",
    "starting = (4,6,2,8,3,1)\n",
    "Add/Merge a 9 to the end of the tuple.\n",
    "\n",
    "Second part:\n",
    "(4,6,2,8,3,1,9)\n",
    "\n",
    "create 1 large tuple\n",
    "first 5 elements from above, 15,20,25, first 5 elements from above\n",
    "\n",
    "(4,6,2,8,3,15,20,25,4,6,2,8,3)\n",
    "\n",
    "\n",
    "\n"
   ]
  },
  {
   "cell_type": "code",
   "execution_count": 16,
   "id": "97fc2d5e",
   "metadata": {},
   "outputs": [
    {
     "data": {
      "text/plain": [
       "(4, 6, 2, 8, 3, 1, 9)"
      ]
     },
     "execution_count": 16,
     "metadata": {},
     "output_type": "execute_result"
    }
   ],
   "source": [
    "starting = (4,6,2,8,3,1)\n",
    "result = starting + (9,)\n",
    "result"
   ]
  },
  {
   "cell_type": "code",
   "execution_count": 17,
   "id": "884a3ce8",
   "metadata": {},
   "outputs": [
    {
     "data": {
      "text/plain": [
       "(4, 6, 2, 8, 3, 15, 20, 25, 4, 6, 2, 8, 3)"
      ]
     },
     "execution_count": 17,
     "metadata": {},
     "output_type": "execute_result"
    }
   ],
   "source": [
    "middle = (15,20,25)\n",
    "total_result = result[:5] + middle + result[:5]\n",
    "total_result\n"
   ]
  },
  {
   "cell_type": "markdown",
   "id": "32d583eb",
   "metadata": {},
   "source": [
    "Lists"
   ]
  },
  {
   "cell_type": "code",
   "execution_count": 24,
   "id": "208bccd3",
   "metadata": {},
   "outputs": [
    {
     "data": {
      "text/plain": [
       "3"
      ]
     },
     "execution_count": 24,
     "metadata": {},
     "output_type": "execute_result"
    }
   ],
   "source": [
    "my_list = [1,2,3]\n",
    "my_list[2]"
   ]
  },
  {
   "cell_type": "code",
   "execution_count": 25,
   "id": "6e68a23f",
   "metadata": {},
   "outputs": [
    {
     "data": {
      "text/plain": [
       "[1, 2]"
      ]
     },
     "execution_count": 25,
     "metadata": {},
     "output_type": "execute_result"
    }
   ],
   "source": [
    "my_list[:2]"
   ]
  },
  {
   "cell_type": "code",
   "execution_count": 26,
   "id": "f92c397b",
   "metadata": {},
   "outputs": [],
   "source": [
    "my_list.append(4)"
   ]
  },
  {
   "cell_type": "code",
   "execution_count": 27,
   "id": "68271d53",
   "metadata": {},
   "outputs": [
    {
     "data": {
      "text/plain": [
       "[1, 2, 3, 4]"
      ]
     },
     "execution_count": 27,
     "metadata": {},
     "output_type": "execute_result"
    }
   ],
   "source": [
    "my_list"
   ]
  },
  {
   "cell_type": "code",
   "execution_count": 28,
   "id": "d1d0450e",
   "metadata": {},
   "outputs": [
    {
     "data": {
      "text/plain": [
       "[1, 2, 7, 3, 4]"
      ]
     },
     "execution_count": 28,
     "metadata": {},
     "output_type": "execute_result"
    }
   ],
   "source": [
    "my_list.insert(2,7)\n",
    "my_list"
   ]
  },
  {
   "cell_type": "code",
   "execution_count": 29,
   "id": "1c2ddebb",
   "metadata": {},
   "outputs": [
    {
     "data": {
      "text/plain": [
       "[1, 7, 3, 4]"
      ]
     },
     "execution_count": 29,
     "metadata": {},
     "output_type": "execute_result"
    }
   ],
   "source": [
    "del my_list[1]\n",
    "my_list"
   ]
  },
  {
   "cell_type": "code",
   "execution_count": 30,
   "id": "d1e5a64a",
   "metadata": {},
   "outputs": [
    {
     "data": {
      "text/plain": [
       "[1, 3, 4]"
      ]
     },
     "execution_count": 30,
     "metadata": {},
     "output_type": "execute_result"
    }
   ],
   "source": [
    "my_list.remove(7)\n",
    "my_list"
   ]
  },
  {
   "cell_type": "code",
   "execution_count": 31,
   "id": "092cae91",
   "metadata": {},
   "outputs": [
    {
     "data": {
      "text/plain": [
       "[4, 3, 1]"
      ]
     },
     "execution_count": 31,
     "metadata": {},
     "output_type": "execute_result"
    }
   ],
   "source": [
    "my_list[0],my_list[2] = my_list[2],my_list[0]\n",
    "\n",
    "my_list"
   ]
  },
  {
   "cell_type": "code",
   "execution_count": 32,
   "id": "e37ba6ad",
   "metadata": {},
   "outputs": [
    {
     "data": {
      "text/plain": [
       "12"
      ]
     },
     "execution_count": 32,
     "metadata": {},
     "output_type": "execute_result"
    }
   ],
   "source": []
  },
  {
   "cell_type": "markdown",
   "id": "53602dfa",
   "metadata": {},
   "source": [
    "Write a function to reverse a list at a specific location\n",
    "function params: list, start_pos, end_pos, Return the list\n",
    "\n",
    "[1,2,3,4,5] , 1, 4\n",
    "\n",
    "[1,5,4,3,2]\n",
    "\n",
    "1\n",
    "4\n",
    "swap the 2 and the 5\n",
    "start + 1\n",
    "end - 1\n",
    "swap 3 and 4\n",
    "start = end"
   ]
  },
  {
   "cell_type": "code",
   "execution_count": 34,
   "id": "d1ee3aa2",
   "metadata": {},
   "outputs": [
    {
     "name": "stdout",
     "output_type": "stream",
     "text": [
      "[1, 5, 4, 3, 2]\n",
      "[10, 20, 50, 40, 30, 60, 70, 80]\n"
     ]
    }
   ],
   "source": [
    "def reverse_list(lst,start_pos,stop_pos):\n",
    "    while start_pos < stop_pos:\n",
    "        lst[start_pos],lst[stop_pos] = lst[stop_pos],lst[start_pos]\n",
    "        start_pos += 1\n",
    "        stop_pos -= 1\n",
    "    return lst\n",
    "\n",
    "print(reverse_list([1,2,3,4,5],1,4))\n",
    "print(reverse_list([10,20,30,40,50,60,70,80],2,4))"
   ]
  },
  {
   "cell_type": "code",
   "execution_count": 35,
   "id": "7cb24d2e",
   "metadata": {},
   "outputs": [
    {
     "name": "stdout",
     "output_type": "stream",
     "text": [
      "Golden L 3\n",
      "Lab L 1\n",
      "Husky L 2\n",
      "Slinky S 5\n"
     ]
    }
   ],
   "source": [
    "#zip for iteration over multiple lists at the same time\n",
    "dogs = ['Golden','Lab','Husky','Slinky']\n",
    "sizes = ['L','L','L','S']\n",
    "ages = [3,1,2,5]\n",
    "\n",
    "for dog,size,age in zip(dogs,sizes,ages):\n",
    "    print(dog,size,age)"
   ]
  },
  {
   "cell_type": "code",
   "execution_count": 36,
   "id": "75b463bd",
   "metadata": {},
   "outputs": [
    {
     "data": {
      "text/plain": [
       "[('Golden', 'L', 3), ('Lab', 'L', 1), ('Husky', 'L', 2), ('Slinky', 'S', 5)]"
      ]
     },
     "execution_count": 36,
     "metadata": {},
     "output_type": "execute_result"
    }
   ],
   "source": [
    "#list of tuples from zip\n",
    "list(zip(dogs,sizes,ages))"
   ]
  },
  {
   "cell_type": "code",
   "execution_count": 45,
   "id": "e264f14d",
   "metadata": {},
   "outputs": [],
   "source": [
    "#dictionaries\n",
    "dct = {\n",
    "    \"Name\":\"Evan\",\n",
    "    \"School\":\"IvyTech\",\n",
    "    \"Grade\": 9999999,\n",
    "    \"Name\" : \"Hello\"\n",
    "}\n"
   ]
  },
  {
   "cell_type": "code",
   "execution_count": 46,
   "id": "4c989694",
   "metadata": {},
   "outputs": [
    {
     "data": {
      "text/plain": [
       "'Hello'"
      ]
     },
     "execution_count": 46,
     "metadata": {},
     "output_type": "execute_result"
    }
   ],
   "source": [
    "dct[\"Name\"]"
   ]
  },
  {
   "cell_type": "code",
   "execution_count": 47,
   "id": "3570837c",
   "metadata": {},
   "outputs": [],
   "source": [
    "dct[\"Name\"] = \"Nick\"\n",
    "dct[\"City\"] = \"Bloomington\""
   ]
  },
  {
   "cell_type": "code",
   "execution_count": 48,
   "id": "d77b81ce",
   "metadata": {},
   "outputs": [
    {
     "data": {
      "text/plain": [
       "{'Name': 'Nick', 'School': 'IvyTech', 'Grade': 9999999, 'City': 'Bloomington'}"
      ]
     },
     "execution_count": 48,
     "metadata": {},
     "output_type": "execute_result"
    }
   ],
   "source": [
    "dct"
   ]
  },
  {
   "cell_type": "code",
   "execution_count": 65,
   "id": "860ed74c",
   "metadata": {},
   "outputs": [
    {
     "data": {
      "text/plain": [
       "{'1': 'SDEV 120', '2': 'SDEV 140', '3': 'SDEV 220'}"
      ]
     },
     "execution_count": 65,
     "metadata": {},
     "output_type": "execute_result"
    }
   ],
   "source": [
    "#Dictionary combination **\n",
    "d1 = {'1':'SDEV 120'}\n",
    "d2 = {'2':'SDEV 140'}\n",
    "d3 = {'3':'SDEV 220'}\n",
    "\n",
    "merged = {**d1,**d2,**d3}\n",
    "merged"
   ]
  },
  {
   "cell_type": "code",
   "execution_count": 49,
   "id": "8b3e6365",
   "metadata": {},
   "outputs": [
    {
     "data": {
      "text/plain": [
       "[1, 2, 3]"
      ]
     },
     "execution_count": 49,
     "metadata": {},
     "output_type": "execute_result"
    }
   ],
   "source": [
    "my_list = [1,2,3]\n",
    "my_copy = my_list\n",
    "my_copy"
   ]
  },
  {
   "cell_type": "code",
   "execution_count": 50,
   "id": "4fbd298d",
   "metadata": {},
   "outputs": [
    {
     "data": {
      "text/plain": [
       "[5, 2, 3]"
      ]
     },
     "execution_count": 50,
     "metadata": {},
     "output_type": "execute_result"
    }
   ],
   "source": [
    "my_list[0] = 5\n",
    "my_copy"
   ]
  },
  {
   "cell_type": "code",
   "execution_count": 53,
   "id": "562dfb60",
   "metadata": {},
   "outputs": [],
   "source": [
    "import copy\n",
    "my_copy = copy.copy(my_list)"
   ]
  },
  {
   "cell_type": "code",
   "execution_count": 56,
   "id": "3e9cfba2",
   "metadata": {},
   "outputs": [
    {
     "data": {
      "text/plain": [
       "[1, 2, 3]"
      ]
     },
     "execution_count": 56,
     "metadata": {},
     "output_type": "execute_result"
    }
   ],
   "source": [
    "my_list[0] = 1\n",
    "my_list"
   ]
  },
  {
   "cell_type": "code",
   "execution_count": 57,
   "id": "d9b37e6b",
   "metadata": {},
   "outputs": [
    {
     "data": {
      "text/plain": [
       "[5, 2, 3]"
      ]
     },
     "execution_count": 57,
     "metadata": {},
     "output_type": "execute_result"
    }
   ],
   "source": [
    "my_copy"
   ]
  },
  {
   "cell_type": "code",
   "execution_count": 58,
   "id": "627a8c02",
   "metadata": {},
   "outputs": [
    {
     "data": {
      "text/plain": [
       "[1, 2, [3, 4, 6], 5]"
      ]
     },
     "execution_count": 58,
     "metadata": {},
     "output_type": "execute_result"
    }
   ],
   "source": [
    "compound = [1,2,[3,4],5]\n",
    "shallow = copy.copy(compound)\n",
    "compound[2].append(6)\n",
    "compound"
   ]
  },
  {
   "cell_type": "code",
   "execution_count": 59,
   "id": "6efd0801",
   "metadata": {},
   "outputs": [
    {
     "data": {
      "text/plain": [
       "[1, 2, [3, 4, 6], 5]"
      ]
     },
     "execution_count": 59,
     "metadata": {},
     "output_type": "execute_result"
    }
   ],
   "source": [
    "shallow"
   ]
  },
  {
   "cell_type": "code",
   "execution_count": 60,
   "id": "b3cb5eb0",
   "metadata": {},
   "outputs": [
    {
     "data": {
      "text/plain": [
       "[1, 2, [3, 4, 6, 7], 5]"
      ]
     },
     "execution_count": 60,
     "metadata": {},
     "output_type": "execute_result"
    }
   ],
   "source": [
    "deep = copy.deepcopy(compound)\n",
    "compound[2].append(7)\n",
    "compound"
   ]
  },
  {
   "cell_type": "code",
   "execution_count": 61,
   "id": "fa24bfa5",
   "metadata": {},
   "outputs": [
    {
     "data": {
      "text/plain": [
       "[1, 2, [3, 4, 6, 7], 5]"
      ]
     },
     "execution_count": 61,
     "metadata": {},
     "output_type": "execute_result"
    }
   ],
   "source": [
    "shallow"
   ]
  },
  {
   "cell_type": "code",
   "execution_count": 62,
   "id": "d0910957",
   "metadata": {},
   "outputs": [
    {
     "data": {
      "text/plain": [
       "[1, 2, [3, 4, 6], 5]"
      ]
     },
     "execution_count": 62,
     "metadata": {},
     "output_type": "execute_result"
    }
   ],
   "source": [
    "deep"
   ]
  },
  {
   "cell_type": "code",
   "execution_count": 67,
   "id": "33819fcf",
   "metadata": {},
   "outputs": [
    {
     "data": {
      "text/plain": [
       "{1, 2, 3}"
      ]
     },
     "execution_count": 67,
     "metadata": {},
     "output_type": "execute_result"
    }
   ],
   "source": [
    "#Sets\n",
    "my_set = {1,2,3}\n",
    "my_set"
   ]
  },
  {
   "cell_type": "code",
   "execution_count": 68,
   "id": "375523d0",
   "metadata": {},
   "outputs": [],
   "source": [
    "my_set.add(5)\n",
    "my_set.remove(1)"
   ]
  },
  {
   "cell_type": "code",
   "execution_count": 69,
   "id": "664b2041",
   "metadata": {},
   "outputs": [
    {
     "data": {
      "text/plain": [
       "{2, 3, 5}"
      ]
     },
     "execution_count": 69,
     "metadata": {},
     "output_type": "execute_result"
    }
   ],
   "source": [
    "my_set"
   ]
  },
  {
   "cell_type": "code",
   "execution_count": 70,
   "id": "43ef17d2",
   "metadata": {},
   "outputs": [
    {
     "name": "stdout",
     "output_type": "stream",
     "text": [
      "2\n",
      "3\n",
      "5\n"
     ]
    }
   ],
   "source": [
    "for item in my_set:\n",
    "    print(item)"
   ]
  },
  {
   "cell_type": "code",
   "execution_count": 71,
   "id": "495fba2d",
   "metadata": {},
   "outputs": [
    {
     "name": "stdout",
     "output_type": "stream",
     "text": [
      "Chicken Bacon\n",
      "Meat Lovers\n"
     ]
    }
   ],
   "source": [
    "Pizzas = {\n",
    "    'Chicken Bacon':{'Chicken','BBQ','Bacon','Onion'},\n",
    "    'Meat Lovers':{'Bacon','Pepp','Sausage','Ham'},\n",
    "    'Veggie':{'Mushroom','Onion','Tomato','Olives'}\n",
    "}\n",
    "\n",
    "for name,ingredients in Pizzas.items():\n",
    "    if 'Bacon' in ingredients:\n",
    "        print(name)"
   ]
  },
  {
   "cell_type": "code",
   "execution_count": 72,
   "id": "2c50c712",
   "metadata": {},
   "outputs": [
    {
     "name": "stdout",
     "output_type": "stream",
     "text": [
      "Chicken Bacon\n",
      "Veggie\n"
     ]
    }
   ],
   "source": [
    "#using & operator for set intersection\n",
    "#as long as one of the ingredients matches\n",
    "#the second set, return true\n",
    "for name,ingredients in Pizzas.items():\n",
    "    if ingredients & {'BBQ','Olives'}:\n",
    "        print(name)\n"
   ]
  },
  {
   "cell_type": "code",
   "execution_count": null,
   "id": "ee7560f4",
   "metadata": {},
   "outputs": [],
   "source": [
    "#quick function\n",
    "def my_func(x,y):\n",
    "    return x * y\n",
    "\n",
    "my_func(3,4)"
   ]
  },
  {
   "cell_type": "code",
   "execution_count": 76,
   "id": "2336c27e",
   "metadata": {},
   "outputs": [
    {
     "name": "stdout",
     "output_type": "stream",
     "text": [
      "2\n",
      "3\n",
      "4\n",
      "5\n",
      "6\n",
      "7\n",
      "8\n",
      "9\n"
     ]
    }
   ],
   "source": [
    "def my_range(high,low = 0):\n",
    "    for i in range(low,high):\n",
    "        print(i)\n",
    "    return\n",
    "\n",
    "my_range(10,2)"
   ]
  },
  {
   "cell_type": "code",
   "execution_count": 77,
   "id": "4e51079a",
   "metadata": {},
   "outputs": [
    {
     "data": {
      "text/plain": [
       "18"
      ]
     },
     "execution_count": 77,
     "metadata": {},
     "output_type": "execute_result"
    }
   ],
   "source": [
    "#variable number of arguments passed.\n",
    "def sum_of_some(*args):\n",
    "    sum = 0\n",
    "    for i in args:\n",
    "        sum += i\n",
    "    return sum\n",
    "\n",
    "sum_of_some(3,6,9)"
   ]
  },
  {
   "cell_type": "code",
   "execution_count": 78,
   "id": "a7d186fb",
   "metadata": {},
   "outputs": [
    {
     "data": {
      "text/plain": [
       "0"
      ]
     },
     "execution_count": 78,
     "metadata": {},
     "output_type": "execute_result"
    }
   ],
   "source": [
    "sum_of_some()"
   ]
  },
  {
   "cell_type": "code",
   "execution_count": 79,
   "id": "4b6f9a23",
   "metadata": {},
   "outputs": [
    {
     "data": {
      "text/plain": [
       "55"
      ]
     },
     "execution_count": 79,
     "metadata": {},
     "output_type": "execute_result"
    }
   ],
   "source": [
    "sum_of_some(1,2,3,4,5,6,7,8,9,10)"
   ]
  },
  {
   "cell_type": "code",
   "execution_count": 80,
   "id": "e62a38d5",
   "metadata": {},
   "outputs": [
    {
     "name": "stdout",
     "output_type": "stream",
     "text": [
      "name Evan\n",
      "school Ivy Tech\n",
      "age 30\n"
     ]
    }
   ],
   "source": [
    "#**keyword arguments\n",
    "def key_args(**kwargs):\n",
    "    for key,value in kwargs.items():\n",
    "        print(key,value)\n",
    "\n",
    "key_args(name=\"Evan\",school=\"Ivy Tech\",age=30)"
   ]
  },
  {
   "cell_type": "code",
   "execution_count": 81,
   "id": "0ad229b0",
   "metadata": {},
   "outputs": [
    {
     "name": "stdout",
     "output_type": "stream",
     "text": [
      "Hello\n"
     ]
    }
   ],
   "source": [
    "#pass a function\n",
    "def say_hello():\n",
    "    print(\"Hello\")\n",
    "    return\n",
    "\n",
    "def run_another(func):\n",
    "    func()\n",
    "    \n",
    "run_another(say_hello)"
   ]
  },
  {
   "cell_type": "code",
   "execution_count": 82,
   "id": "e5032c19",
   "metadata": {},
   "outputs": [
    {
     "name": "stdout",
     "output_type": "stream",
     "text": [
      "4\n",
      "5\n",
      "6\n"
     ]
    }
   ],
   "source": [
    "def outer(x,y):\n",
    "    def inner(i,j):\n",
    "        for m in range(i,j):\n",
    "            print(m)\n",
    "        return\n",
    "    return inner(x,y)\n",
    "\n",
    "outer(4,7)"
   ]
  },
  {
   "cell_type": "code",
   "execution_count": 83,
   "id": "d295f669",
   "metadata": {},
   "outputs": [
    {
     "data": {
      "text/plain": [
       "14"
      ]
     },
     "execution_count": 83,
     "metadata": {},
     "output_type": "execute_result"
    }
   ],
   "source": [
    "x = lambda a: a + 10\n",
    "x(4)"
   ]
  },
  {
   "cell_type": "code",
   "execution_count": 84,
   "id": "1c721b47",
   "metadata": {},
   "outputs": [
    {
     "name": "stdout",
     "output_type": "stream",
     "text": [
      "1\n",
      "2\n",
      "3\n",
      "4\n"
     ]
    },
    {
     "data": {
      "text/plain": [
       "[None, None, None, None]"
      ]
     },
     "execution_count": 84,
     "metadata": {},
     "output_type": "execute_result"
    }
   ],
   "source": [
    "x = lambda a: [print(i) for i in a]\n",
    "\n",
    "x([1,2,3,4])"
   ]
  },
  {
   "cell_type": "code",
   "execution_count": 85,
   "id": "46d511de",
   "metadata": {},
   "outputs": [
    {
     "name": "stdout",
     "output_type": "stream",
     "text": [
      "[3, 6, 9, 12, 15]\n"
     ]
    }
   ],
   "source": [
    "#Map function takes function and iterable and returns a new iterable with the function applied to every element of the original\n",
    "\n",
    "nums = (1,2,3,4,5)\n",
    "tripled = map(lambda a : a * 3,nums)\n",
    "print(list(tripled))"
   ]
  },
  {
   "cell_type": "code",
   "execution_count": 86,
   "id": "29ecd09b",
   "metadata": {},
   "outputs": [],
   "source": [
    "my_tuples = [('SDEV 120',30),('IOL 220',57),('SDEV 220',10)]\n",
    "my_tuples.sort(key=lambda x:x[1])"
   ]
  },
  {
   "cell_type": "code",
   "execution_count": 87,
   "id": "ac5f8099",
   "metadata": {},
   "outputs": [
    {
     "data": {
      "text/plain": [
       "[('SDEV 220', 10), ('SDEV 120', 30), ('IOL 220', 57)]"
      ]
     },
     "execution_count": 87,
     "metadata": {},
     "output_type": "execute_result"
    }
   ],
   "source": [
    "my_tuples"
   ]
  },
  {
   "cell_type": "code",
   "execution_count": 88,
   "id": "22aebf0a",
   "metadata": {},
   "outputs": [
    {
     "name": "stdout",
     "output_type": "stream",
     "text": [
      "Evan\n"
     ]
    }
   ],
   "source": [
    "#Classes\n",
    "\n",
    "class Instructor:\n",
    "    name=\"Evan\"\n",
    "\n",
    "me = Instructor()\n",
    "print(me.name)"
   ]
  },
  {
   "cell_type": "code",
   "execution_count": 91,
   "id": "8dddafbf",
   "metadata": {},
   "outputs": [
    {
     "name": "stdout",
     "output_type": "stream",
     "text": [
      "Luna\n",
      "36\n"
     ]
    }
   ],
   "source": [
    "#Disc golf disc class\n",
    "class Disc:\n",
    "    def __init__(self,name,manu,speed):\n",
    "        self.disc_name = name\n",
    "        self.manufacturer = manu\n",
    "        self.speed = speed\n",
    "    def throw(self):\n",
    "        return self.speed * 12\n",
    "    \n",
    "d1 = Disc('Luna','Discraft',3)\n",
    "\n",
    "print(d1.disc_name)\n",
    "print(d1.throw())\n",
    "    "
   ]
  },
  {
   "cell_type": "code",
   "execution_count": null,
   "id": "76372c59",
   "metadata": {},
   "outputs": [],
   "source": []
  }
 ],
 "metadata": {
  "kernelspec": {
   "display_name": "Python 3 (ipykernel)",
   "language": "python",
   "name": "python3"
  },
  "language_info": {
   "codemirror_mode": {
    "name": "ipython",
    "version": 3
   },
   "file_extension": ".py",
   "mimetype": "text/x-python",
   "name": "python",
   "nbconvert_exporter": "python",
   "pygments_lexer": "ipython3",
   "version": "3.10.9"
  }
 },
 "nbformat": 4,
 "nbformat_minor": 5
}
