{
 "cells": [
  {
   "cell_type": "markdown",
   "id": "d340f25f-b794-45c8-be9b-a80c9b80d249",
   "metadata": {},
   "source": [
    "SDEV 220: Module 4\n",
    "Evan Mitchell\n",
    "4/10/2024"
   ]
  },
  {
   "cell_type": "markdown",
   "id": "3a83e221-7239-4816-88ea-c1e7597db44f",
   "metadata": {},
   "source": [
    "Handling exceptions: https://docs.python.org/3/library/exceptions.html\n",
    "What happens when an error occurs? If the db connection fails, the user enters an invalid data type or other?"
   ]
  },
  {
   "cell_type": "code",
   "execution_count": 17,
   "id": "b6295836-6b7f-45bf-a63b-be19e934dda8",
   "metadata": {},
   "outputs": [],
   "source": [
    "#Without any exception handling\n",
    "\n",
    "    "
   ]
  },
  {
   "cell_type": "code",
   "execution_count": null,
   "id": "d85dd1a9-bf6e-4721-af1b-bb7c366dcf2d",
   "metadata": {},
   "outputs": [],
   "source": []
  }
 ],
 "metadata": {
  "kernelspec": {
   "display_name": "Python 3 (ipykernel)",
   "language": "python",
   "name": "python3"
  },
  "language_info": {
   "codemirror_mode": {
    "name": "ipython",
    "version": 3
   },
   "file_extension": ".py",
   "mimetype": "text/x-python",
   "name": "python",
   "nbconvert_exporter": "python",
   "pygments_lexer": "ipython3",
   "version": "3.11.7"
  }
 },
 "nbformat": 4,
 "nbformat_minor": 5
}
