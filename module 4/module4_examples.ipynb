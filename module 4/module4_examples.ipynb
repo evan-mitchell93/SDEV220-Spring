{
 "cells": [
  {
   "cell_type": "markdown",
   "id": "d340f25f-b794-45c8-be9b-a80c9b80d249",
   "metadata": {},
   "source": [
    "SDEV 220: Module 4\n",
    "Evan Mitchell\n",
    "4/10/2024"
   ]
  },
  {
   "cell_type": "markdown",
   "id": "3a83e221-7239-4816-88ea-c1e7597db44f",
   "metadata": {},
   "source": [
    "Handling exceptions: https://docs.python.org/3/library/exceptions.html\n",
    "What happens when an error occurs? If the db connection fails, the user enters an invalid data type or other?"
   ]
  },
  {
   "cell_type": "code",
   "execution_count": 17,
   "id": "b6295836-6b7f-45bf-a63b-be19e934dda8",
   "metadata": {},
   "outputs": [],
   "source": [
    "#Without any exception handling\n",
    "\n",
    "    "
   ]
  },
  {
   "cell_type": "code",
   "execution_count": 4,
   "id": "d85dd1a9-bf6e-4721-af1b-bb7c366dcf2d",
   "metadata": {},
   "outputs": [
    {
     "name": "stdin",
     "output_type": "stream",
     "text": [
      "Enter rating:  881\n",
      "Enter division:  MA3\n"
     ]
    },
    {
     "name": "stdout",
     "output_type": "stream",
     "text": [
      "Registered for division\n"
     ]
    }
   ],
   "source": [
    "divisions = { \"MA4\" : 849, \"MA3\" : 899, \"MA2\" : 934, \"MA1\" : 970}\n",
    "\n",
    "class InvalidRatingException(Exception):\n",
    "    pass\n",
    "\n",
    "def register(rating, division):\n",
    "    if rating > divisions[division]:\n",
    "        raise InvalidRatingException\n",
    "    else:\n",
    "        print(\"Registered for {division} with rating {rating}\")\n",
    "\n",
    "try:\n",
    "    rating = int(input(\"Enter rating: \"))\n",
    "    div = input(\"Enter division: \")\n",
    "    register(rating,div)\n",
    "except InvalidRatingException:\n",
    "    print(\"Cannot register for division\")\n",
    "\n"
   ]
  },
  {
   "cell_type": "code",
   "execution_count": null,
   "id": "0882bc5d-8c03-4b87-9698-95b0c360e858",
   "metadata": {},
   "outputs": [],
   "source": []
  }
 ],
 "metadata": {
  "kernelspec": {
   "display_name": "Python 3 (ipykernel)",
   "language": "python",
   "name": "python3"
  },
  "language_info": {
   "codemirror_mode": {
    "name": "ipython",
    "version": 3
   },
   "file_extension": ".py",
   "mimetype": "text/x-python",
   "name": "python",
   "nbconvert_exporter": "python",
   "pygments_lexer": "ipython3",
   "version": "3.11.7"
  }
 },
 "nbformat": 4,
 "nbformat_minor": 5
}
