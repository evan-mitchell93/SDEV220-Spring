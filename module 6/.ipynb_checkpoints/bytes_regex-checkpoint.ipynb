{
 "cells": [
  {
   "cell_type": "code",
   "execution_count": 4,
   "id": "02698f58",
   "metadata": {},
   "outputs": [
    {
     "name": "stdout",
     "output_type": "stream",
     "text": [
      "ḃ\n",
      "a\n"
     ]
    }
   ],
   "source": [
    "#unicode characters represented by codepoints (integers)\n",
    "#range 0 - 0x10FFFF (1.1 million values)\n",
    "\n",
    "char = '\\u1E03'\n",
    "char1 = '\\u0061'\n",
    "print(char)\n",
    "print(char1)"
   ]
  },
  {
   "cell_type": "code",
   "execution_count": 3,
   "id": "033dfcf2",
   "metadata": {},
   "outputs": [
    {
     "name": "stdout",
     "output_type": "stream",
     "text": [
      "ḅ\n"
     ]
    }
   ],
   "source": [
    "#use the name\n",
    "charname = '\\N{LATIN SMALL LETTER B WITH DOT BELOW}'\n",
    "print(charname)"
   ]
  },
  {
   "cell_type": "code",
   "execution_count": 5,
   "id": "1de802a5",
   "metadata": {},
   "outputs": [
    {
     "name": "stdout",
     "output_type": "stream",
     "text": [
      "LATIN SMALL LETTER A\n"
     ]
    }
   ],
   "source": [
    "import unicodedata\n",
    "print(unicodedata.name(\"a\"))"
   ]
  },
  {
   "cell_type": "code",
   "execution_count": 6,
   "id": "75e944e0",
   "metadata": {},
   "outputs": [
    {
     "data": {
      "text/plain": [
       "'a'"
      ]
     },
     "execution_count": 6,
     "metadata": {},
     "output_type": "execute_result"
    }
   ],
   "source": [
    "'\\N{LATIN SMALL LETTER A}'"
   ]
  },
  {
   "cell_type": "code",
   "execution_count": 9,
   "id": "9062501e",
   "metadata": {},
   "outputs": [
    {
     "name": "stdout",
     "output_type": "stream",
     "text": [
      "a\n"
     ]
    }
   ],
   "source": [
    "print(unicodedata.lookup(\"LATIN SMALL LETTER A\"))"
   ]
  },
  {
   "cell_type": "code",
   "execution_count": 10,
   "id": "b1b84052",
   "metadata": {},
   "outputs": [],
   "source": [
    "my_str = \"hello\".encode(\"utf-8\")"
   ]
  },
  {
   "cell_type": "code",
   "execution_count": 11,
   "id": "303d16c3",
   "metadata": {},
   "outputs": [
    {
     "name": "stdout",
     "output_type": "stream",
     "text": [
      "b'hello'\n"
     ]
    }
   ],
   "source": [
    "print(my_str)"
   ]
  },
  {
   "cell_type": "code",
   "execution_count": 12,
   "id": "658507e5",
   "metadata": {},
   "outputs": [
    {
     "name": "stdout",
     "output_type": "stream",
     "text": [
      "hello\n"
     ]
    }
   ],
   "source": [
    "print(my_str.decode('utf-8'))"
   ]
  },
  {
   "cell_type": "code",
   "execution_count": 14,
   "id": "18b33e3f",
   "metadata": {},
   "outputs": [
    {
     "name": "stdout",
     "output_type": "stream",
     "text": [
      "mangé\n",
      "b'mang\\xc3\\xa9'\n"
     ]
    }
   ],
   "source": [
    "french_str = \"mang\\u00e9\"\n",
    "print(french_str)\n",
    "print(french_str.encode('utf-8'))"
   ]
  },
  {
   "cell_type": "code",
   "execution_count": 16,
   "id": "580c15ae",
   "metadata": {},
   "outputs": [
    {
     "data": {
      "text/plain": [
       "'😂'"
      ]
     },
     "execution_count": 16,
     "metadata": {},
     "output_type": "execute_result"
    }
   ],
   "source": [
    "laugh = '\\U0001F602'\n",
    "laugh"
   ]
  },
  {
   "cell_type": "code",
   "execution_count": 17,
   "id": "4b7b9341",
   "metadata": {},
   "outputs": [
    {
     "data": {
      "text/plain": [
       "1"
      ]
     },
     "execution_count": 17,
     "metadata": {},
     "output_type": "execute_result"
    }
   ],
   "source": [
    "len(laugh)"
   ]
  },
  {
   "cell_type": "code",
   "execution_count": 18,
   "id": "6a3d6b24",
   "metadata": {},
   "outputs": [
    {
     "name": "stdout",
     "output_type": "stream",
     "text": [
      "b'\\xf0\\x9f\\x98\\x82'\n"
     ]
    }
   ],
   "source": [
    "print(laugh.encode('utf-8'))"
   ]
  },
  {
   "cell_type": "code",
   "execution_count": 19,
   "id": "d16ada84",
   "metadata": {},
   "outputs": [
    {
     "name": "stdout",
     "output_type": "stream",
     "text": [
      "4\n"
     ]
    }
   ],
   "source": [
    "print(len(laugh.encode('utf-8')))"
   ]
  },
  {
   "cell_type": "code",
   "execution_count": 20,
   "id": "3e5b7ad5",
   "metadata": {},
   "outputs": [
    {
     "ename": "UnicodeEncodeError",
     "evalue": "'ascii' codec can't encode character '\\U0001f602' in position 0: ordinal not in range(128)",
     "output_type": "error",
     "traceback": [
      "\u001b[1;31m---------------------------------------------------------------------------\u001b[0m",
      "\u001b[1;31mUnicodeEncodeError\u001b[0m                        Traceback (most recent call last)",
      "Cell \u001b[1;32mIn[20], line 2\u001b[0m\n\u001b[0;32m      1\u001b[0m \u001b[38;5;66;03m#Encode actually takes 2 arguments\u001b[39;00m\n\u001b[1;32m----> 2\u001b[0m \u001b[38;5;28mprint\u001b[39m(\u001b[43mlaugh\u001b[49m\u001b[38;5;241;43m.\u001b[39;49m\u001b[43mencode\u001b[49m\u001b[43m(\u001b[49m\u001b[38;5;124;43m'\u001b[39;49m\u001b[38;5;124;43mascii\u001b[39;49m\u001b[38;5;124;43m'\u001b[39;49m\u001b[43m)\u001b[49m)\n",
      "\u001b[1;31mUnicodeEncodeError\u001b[0m: 'ascii' codec can't encode character '\\U0001f602' in position 0: ordinal not in range(128)"
     ]
    }
   ],
   "source": [
    "#Encode actually takes 2 arguments\n",
    "print(laugh.encode('ascii'))"
   ]
  },
  {
   "cell_type": "code",
   "execution_count": 21,
   "id": "5a291f5c",
   "metadata": {},
   "outputs": [
    {
     "name": "stdout",
     "output_type": "stream",
     "text": [
      "b''\n"
     ]
    }
   ],
   "source": [
    "print(laugh.encode('ascii','ignore'))"
   ]
  },
  {
   "cell_type": "code",
   "execution_count": 23,
   "id": "a9e97d5f",
   "metadata": {},
   "outputs": [
    {
     "name": "stdout",
     "output_type": "stream",
     "text": [
      "b' and '\n"
     ]
    }
   ],
   "source": [
    "emoji_combo = '\\U0001F602 and \\U0001f923'\n",
    "emoji_combo\n",
    "print(emoji_combo.encode('ascii','ignore'))"
   ]
  },
  {
   "cell_type": "code",
   "execution_count": 24,
   "id": "1fedd2ce",
   "metadata": {},
   "outputs": [
    {
     "name": "stdout",
     "output_type": "stream",
     "text": [
      "b'? and ?'\n"
     ]
    }
   ],
   "source": [
    "print(emoji_combo.encode('ascii','replace'))"
   ]
  },
  {
   "cell_type": "code",
   "execution_count": 26,
   "id": "d5a99704",
   "metadata": {},
   "outputs": [
    {
     "name": "stdout",
     "output_type": "stream",
     "text": [
      "Hello&gt;&lt;$\n",
      "é\n"
     ]
    }
   ],
   "source": [
    "import html\n",
    "\n",
    "print(html.escape(\"Hello><$\"))\n",
    "print(html.unescape('e&#769'))"
   ]
  },
  {
   "cell_type": "code",
   "execution_count": 27,
   "id": "39622457",
   "metadata": {},
   "outputs": [
    {
     "name": "stdout",
     "output_type": "stream",
     "text": [
      "é\n"
     ]
    }
   ],
   "source": [
    "print(html.escape(\"é\"))"
   ]
  },
  {
   "cell_type": "code",
   "execution_count": 29,
   "id": "8c49d224",
   "metadata": {},
   "outputs": [
    {
     "name": "stdout",
     "output_type": "stream",
     "text": [
      "é é é é\n"
     ]
    }
   ],
   "source": [
    "my_accent = chr(233)\n",
    "my_accent2 = '\\u00e9'\n",
    "my_accent3 = html.unescape('e&#769')\n",
    "my_accent4 = html.unescape('&#233')\n",
    "print(my_accent,my_accent2,my_accent3,my_accent4)"
   ]
  },
  {
   "cell_type": "code",
   "execution_count": 30,
   "id": "6e524292",
   "metadata": {},
   "outputs": [
    {
     "data": {
      "text/plain": [
       "True"
      ]
     },
     "execution_count": 30,
     "metadata": {},
     "output_type": "execute_result"
    }
   ],
   "source": [
    "my_accent == my_accent2"
   ]
  },
  {
   "cell_type": "code",
   "execution_count": 31,
   "id": "8e5670cd",
   "metadata": {},
   "outputs": [
    {
     "data": {
      "text/plain": [
       "False"
      ]
     },
     "execution_count": 31,
     "metadata": {},
     "output_type": "execute_result"
    }
   ],
   "source": [
    "my_accent2 == my_accent3"
   ]
  },
  {
   "cell_type": "code",
   "execution_count": 32,
   "id": "1bac9f09",
   "metadata": {},
   "outputs": [
    {
     "data": {
      "text/plain": [
       "True"
      ]
     },
     "execution_count": 32,
     "metadata": {},
     "output_type": "execute_result"
    }
   ],
   "source": [
    "my_accent2 == my_accent4"
   ]
  },
  {
   "cell_type": "code",
   "execution_count": 40,
   "id": "ff1527ab",
   "metadata": {},
   "outputs": [
    {
     "name": "stdout",
     "output_type": "stream",
     "text": [
      "<re.Match object; span=(0, 2), match='He'>\n",
      "None\n",
      "<re.Match object; span=(6, 10), match='SDEV'>\n",
      "SDEV\n",
      "SDEV\n"
     ]
    }
   ],
   "source": [
    "import re\n",
    "\n",
    "my_str = \"Hello SDEV 220 and SDEV 140\"\n",
    "print(re.match(\"He\",my_str))\n",
    "print(re.match(\"SDEV\",my_str))\n",
    "\n",
    "test_str = re.search(\"SDEV\", my_str)\n",
    "print(test_str)\n",
    "print(my_str[test_str.span()[0]:test_str.span()[1]])\n",
    "print(my_str[6:10])\n"
   ]
  },
  {
   "cell_type": "code",
   "execution_count": 41,
   "id": "2c4f32f3",
   "metadata": {},
   "outputs": [
    {
     "name": "stdout",
     "output_type": "stream",
     "text": [
      "['SDEV', 'SDEV']\n"
     ]
    }
   ],
   "source": [
    "print(re.findall(\"SDEV\",my_str))"
   ]
  },
  {
   "cell_type": "code",
   "execution_count": 42,
   "id": "2e36d162",
   "metadata": {},
   "outputs": [
    {
     "name": "stdout",
     "output_type": "stream",
     "text": [
      "['Hello ', ' 220 and ', ' 140']\n"
     ]
    }
   ],
   "source": [
    "print(re.split(\"SDEV\",my_str))"
   ]
  },
  {
   "cell_type": "code",
   "execution_count": 45,
   "id": "a17ae57c",
   "metadata": {},
   "outputs": [
    {
     "name": "stdout",
     "output_type": "stream",
     "text": [
      "Hello 😂 220 and 😂 140\n"
     ]
    }
   ],
   "source": [
    "print(re.sub(\"SDEV\",\"\\U0001F602\",my_str))"
   ]
  },
  {
   "cell_type": "code",
   "execution_count": null,
   "id": "5b4de77b",
   "metadata": {},
   "outputs": [],
   "source": [
    "m_characters = 'abcde12345?!_@ \\t\\n'\n",
    "print(re.findall('\\d',m_characters))"
   ]
  }
 ],
 "metadata": {
  "kernelspec": {
   "display_name": "Python 3 (ipykernel)",
   "language": "python",
   "name": "python3"
  },
  "language_info": {
   "codemirror_mode": {
    "name": "ipython",
    "version": 3
   },
   "file_extension": ".py",
   "mimetype": "text/x-python",
   "name": "python",
   "nbconvert_exporter": "python",
   "pygments_lexer": "ipython3",
   "version": "3.10.9"
  }
 },
 "nbformat": 4,
 "nbformat_minor": 5
}
