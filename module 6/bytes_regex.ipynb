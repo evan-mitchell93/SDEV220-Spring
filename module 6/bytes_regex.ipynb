{
 "cells": [
  {
   "cell_type": "code",
   "execution_count": 4,
   "id": "02698f58",
   "metadata": {},
   "outputs": [
    {
     "name": "stdout",
     "output_type": "stream",
     "text": [
      "ḃ\n",
      "a\n"
     ]
    }
   ],
   "source": [
    "#unicode characters represented by codepoints (integers)\n",
    "#range 0 - 0x10FFFF (1.1 million values)\n",
    "\n",
    "char = '\\u1E03'\n",
    "char1 = '\\u0061'\n",
    "print(char)\n",
    "print(char1)"
   ]
  },
  {
   "cell_type": "code",
   "execution_count": 3,
   "id": "df94d241",
   "metadata": {},
   "outputs": [
    {
     "name": "stdout",
     "output_type": "stream",
     "text": [
      "ḅ\n"
     ]
    }
   ],
   "source": [
    "#use the name\n",
    "charname = '\\N{LATIN SMALL LETTER B WITH DOT BELOW}'\n",
    "print(charname)"
   ]
  },
  {
   "cell_type": "code",
   "execution_count": 5,
   "id": "dadfae30",
   "metadata": {},
   "outputs": [
    {
     "name": "stdout",
     "output_type": "stream",
     "text": [
      "LATIN SMALL LETTER A\n"
     ]
    }
   ],
   "source": [
    "import unicodedata\n",
    "print(unicodedata.name(\"a\"))"
   ]
  },
  {
   "cell_type": "code",
   "execution_count": 6,
   "id": "a73285d0",
   "metadata": {},
   "outputs": [
    {
     "data": {
      "text/plain": [
       "'a'"
      ]
     },
     "execution_count": 6,
     "metadata": {},
     "output_type": "execute_result"
    }
   ],
   "source": [
    "'\\N{LATIN SMALL LETTER A}'"
   ]
  },
  {
   "cell_type": "code",
   "execution_count": 9,
   "id": "e0dd3de4",
   "metadata": {},
   "outputs": [
    {
     "name": "stdout",
     "output_type": "stream",
     "text": [
      "a\n"
     ]
    }
   ],
   "source": [
    "print(unicodedata.lookup(\"LATIN SMALL LETTER A\"))"
   ]
  },
  {
   "cell_type": "code",
   "execution_count": 10,
   "id": "0e302fb0",
   "metadata": {},
   "outputs": [],
   "source": [
    "my_str = \"hello\".encode(\"utf-8\")"
   ]
  },
  {
   "cell_type": "code",
   "execution_count": 11,
   "id": "afaa1315",
   "metadata": {},
   "outputs": [
    {
     "name": "stdout",
     "output_type": "stream",
     "text": [
      "b'hello'\n"
     ]
    }
   ],
   "source": [
    "print(my_str)"
   ]
  },
  {
   "cell_type": "code",
   "execution_count": 12,
   "id": "3c5fa91f",
   "metadata": {},
   "outputs": [
    {
     "name": "stdout",
     "output_type": "stream",
     "text": [
      "hello\n"
     ]
    }
   ],
   "source": [
    "print(my_str.decode('utf-8'))"
   ]
  },
  {
   "cell_type": "code",
   "execution_count": 14,
   "id": "086c9bd4",
   "metadata": {},
   "outputs": [
    {
     "name": "stdout",
     "output_type": "stream",
     "text": [
      "mangé\n",
      "b'mang\\xc3\\xa9'\n"
     ]
    }
   ],
   "source": [
    "french_str = \"mang\\u00e9\"\n",
    "print(french_str)\n",
    "print(french_str.encode('utf-8'))"
   ]
  },
  {
   "cell_type": "code",
   "execution_count": 16,
   "id": "66643c8e",
   "metadata": {},
   "outputs": [
    {
     "data": {
      "text/plain": [
       "'😂'"
      ]
     },
     "execution_count": 16,
     "metadata": {},
     "output_type": "execute_result"
    }
   ],
   "source": [
    "laugh = '\\U0001F602'\n",
    "laugh"
   ]
  },
  {
   "cell_type": "code",
   "execution_count": 17,
   "id": "89aca26f",
   "metadata": {},
   "outputs": [
    {
     "data": {
      "text/plain": [
       "1"
      ]
     },
     "execution_count": 17,
     "metadata": {},
     "output_type": "execute_result"
    }
   ],
   "source": [
    "len(laugh)"
   ]
  },
  {
   "cell_type": "code",
   "execution_count": 18,
   "id": "449760ef",
   "metadata": {},
   "outputs": [
    {
     "name": "stdout",
     "output_type": "stream",
     "text": [
      "b'\\xf0\\x9f\\x98\\x82'\n"
     ]
    }
   ],
   "source": [
    "print(laugh.encode('utf-8'))"
   ]
  },
  {
   "cell_type": "code",
   "execution_count": 19,
   "id": "1ae0787a",
   "metadata": {},
   "outputs": [
    {
     "name": "stdout",
     "output_type": "stream",
     "text": [
      "4\n"
     ]
    }
   ],
   "source": [
    "print(len(laugh.encode('utf-8')))"
   ]
  },
  {
   "cell_type": "code",
   "execution_count": 20,
   "id": "7125001f",
   "metadata": {},
   "outputs": [
    {
     "ename": "UnicodeEncodeError",
     "evalue": "'ascii' codec can't encode character '\\U0001f602' in position 0: ordinal not in range(128)",
     "output_type": "error",
     "traceback": [
      "\u001b[1;31m---------------------------------------------------------------------------\u001b[0m",
      "\u001b[1;31mUnicodeEncodeError\u001b[0m                        Traceback (most recent call last)",
      "Cell \u001b[1;32mIn[20], line 2\u001b[0m\n\u001b[0;32m      1\u001b[0m \u001b[38;5;66;03m#Encode actually takes 2 arguments\u001b[39;00m\n\u001b[1;32m----> 2\u001b[0m \u001b[38;5;28mprint\u001b[39m(\u001b[43mlaugh\u001b[49m\u001b[38;5;241;43m.\u001b[39;49m\u001b[43mencode\u001b[49m\u001b[43m(\u001b[49m\u001b[38;5;124;43m'\u001b[39;49m\u001b[38;5;124;43mascii\u001b[39;49m\u001b[38;5;124;43m'\u001b[39;49m\u001b[43m)\u001b[49m)\n",
      "\u001b[1;31mUnicodeEncodeError\u001b[0m: 'ascii' codec can't encode character '\\U0001f602' in position 0: ordinal not in range(128)"
     ]
    }
   ],
   "source": [
    "#Encode actually takes 2 arguments\n",
    "print(laugh.encode('ascii'))"
   ]
  },
  {
   "cell_type": "code",
   "execution_count": 21,
   "id": "c9cca790",
   "metadata": {},
   "outputs": [
    {
     "name": "stdout",
     "output_type": "stream",
     "text": [
      "b''\n"
     ]
    }
   ],
   "source": [
    "print(laugh.encode('ascii','ignore'))"
   ]
  },
  {
   "cell_type": "code",
   "execution_count": 23,
   "id": "749ba1ce",
   "metadata": {},
   "outputs": [
    {
     "name": "stdout",
     "output_type": "stream",
     "text": [
      "b' and '\n"
     ]
    }
   ],
   "source": [
    "emoji_combo = '\\U0001F602 and \\U0001f923'\n",
    "emoji_combo\n",
    "print(emoji_combo.encode('ascii','ignore'))"
   ]
  },
  {
   "cell_type": "code",
   "execution_count": 24,
   "id": "b31d61be",
   "metadata": {},
   "outputs": [
    {
     "name": "stdout",
     "output_type": "stream",
     "text": [
      "b'? and ?'\n"
     ]
    }
   ],
   "source": [
    "print(emoji_combo.encode('ascii','replace'))"
   ]
  },
  {
   "cell_type": "code",
   "execution_count": 26,
   "id": "8e51bb70",
   "metadata": {},
   "outputs": [
    {
     "name": "stdout",
     "output_type": "stream",
     "text": [
      "Hello&gt;&lt;$\n",
      "é\n"
     ]
    }
   ],
   "source": [
    "import html\n",
    "\n",
    "print(html.escape(\"Hello><$\"))\n",
    "print(html.unescape('e&#769'))"
   ]
  },
  {
   "cell_type": "code",
   "execution_count": 27,
   "id": "b22e14e4",
   "metadata": {},
   "outputs": [
    {
     "name": "stdout",
     "output_type": "stream",
     "text": [
      "é\n"
     ]
    }
   ],
   "source": [
    "print(html.escape(\"é\"))"
   ]
  },
  {
   "cell_type": "code",
   "execution_count": 29,
   "id": "15198bea",
   "metadata": {},
   "outputs": [
    {
     "name": "stdout",
     "output_type": "stream",
     "text": [
      "é é é é\n"
     ]
    }
   ],
   "source": [
    "my_accent = chr(233)\n",
    "my_accent2 = '\\u00e9'\n",
    "my_accent3 = html.unescape('e&#769')\n",
    "my_accent4 = html.unescape('&#233')\n",
    "print(my_accent,my_accent2,my_accent3,my_accent4)"
   ]
  },
  {
   "cell_type": "code",
   "execution_count": 30,
   "id": "53142927",
   "metadata": {},
   "outputs": [
    {
     "data": {
      "text/plain": [
       "True"
      ]
     },
     "execution_count": 30,
     "metadata": {},
     "output_type": "execute_result"
    }
   ],
   "source": [
    "my_accent == my_accent2"
   ]
  },
  {
   "cell_type": "code",
   "execution_count": 31,
   "id": "6f3b72f6",
   "metadata": {},
   "outputs": [
    {
     "data": {
      "text/plain": [
       "False"
      ]
     },
     "execution_count": 31,
     "metadata": {},
     "output_type": "execute_result"
    }
   ],
   "source": [
    "my_accent2 == my_accent3"
   ]
  },
  {
   "cell_type": "code",
   "execution_count": 32,
   "id": "e840c6f8",
   "metadata": {},
   "outputs": [
    {
     "data": {
      "text/plain": [
       "True"
      ]
     },
     "execution_count": 32,
     "metadata": {},
     "output_type": "execute_result"
    }
   ],
   "source": [
    "my_accent2 == my_accent4"
   ]
  },
  {
   "cell_type": "code",
   "execution_count": 40,
   "id": "84c1fd50",
   "metadata": {},
   "outputs": [
    {
     "name": "stdout",
     "output_type": "stream",
     "text": [
      "<re.Match object; span=(0, 2), match='He'>\n",
      "None\n",
      "<re.Match object; span=(6, 10), match='SDEV'>\n",
      "SDEV\n",
      "SDEV\n"
     ]
    }
   ],
   "source": [
    "import re\n",
    "\n",
    "my_str = \"Hello SDEV 220 and SDEV 140\"\n",
    "print(re.match(\"He\",my_str))\n",
    "print(re.match(\"SDEV\",my_str))\n",
    "\n",
    "test_str = re.search(\"SDEV\", my_str)\n",
    "print(test_str)\n",
    "print(my_str[test_str.span()[0]:test_str.span()[1]])\n",
    "print(my_str[6:10])\n"
   ]
  },
  {
   "cell_type": "code",
   "execution_count": 41,
   "id": "2bc224a9",
   "metadata": {},
   "outputs": [
    {
     "name": "stdout",
     "output_type": "stream",
     "text": [
      "['SDEV', 'SDEV']\n"
     ]
    }
   ],
   "source": [
    "print(re.findall(\"SDEV\",my_str))"
   ]
  },
  {
   "cell_type": "code",
   "execution_count": 42,
   "id": "24150539",
   "metadata": {},
   "outputs": [
    {
     "name": "stdout",
     "output_type": "stream",
     "text": [
      "['Hello ', ' 220 and ', ' 140']\n"
     ]
    }
   ],
   "source": [
    "print(re.split(\"SDEV\",my_str))"
   ]
  },
  {
   "cell_type": "code",
   "execution_count": 45,
   "id": "3095a46c",
   "metadata": {},
   "outputs": [
    {
     "name": "stdout",
     "output_type": "stream",
     "text": [
      "Hello 😂 220 and 😂 140\n"
     ]
    }
   ],
   "source": [
    "print(re.sub(\"SDEV\",\"\\U0001F602\",my_str))"
   ]
  },
  {
   "cell_type": "code",
   "execution_count": 52,
   "id": "ebff0e25",
   "metadata": {},
   "outputs": [
    {
     "name": "stdout",
     "output_type": "stream",
     "text": [
      "['1', '2', '3', '4', '5']\n",
      "['a', 'b', 'c', 'd', 'e', '?', '!', '_', '@', ' ', '\\t', '\\n']\n"
     ]
    }
   ],
   "source": [
    "#\\d for numbers \\D non numbers\n",
    "m_characters = 'abcde12345?!_@ \\t\\n'\n",
    "print(re.findall('\\d',m_characters))\n",
    "print(re.findall('\\D',m_characters))"
   ]
  },
  {
   "cell_type": "code",
   "execution_count": 50,
   "id": "63168d4b",
   "metadata": {},
   "outputs": [
    {
     "name": "stdout",
     "output_type": "stream",
     "text": [
      "['a', 'b', 'c', 'd', 'e', '1', '2', '3', '4', '5', '_']\n",
      "['?', '!', '@', ' ', '\\t', '\\n']\n"
     ]
    }
   ],
   "source": [
    "# \\w Non whitespace, non special characters (except _)\n",
    "# \\W no word characters\n",
    "print(re.findall('\\w',m_characters))\n",
    "print(re.findall('\\W',m_characters))"
   ]
  },
  {
   "cell_type": "code",
   "execution_count": 51,
   "id": "62e39254",
   "metadata": {},
   "outputs": [
    {
     "name": "stdout",
     "output_type": "stream",
     "text": [
      "[' ', '\\t', '\\n']\n",
      "['a', 'b', 'c', 'd', 'e', '1', '2', '3', '4', '5', '?', '!', '_', '@']\n"
     ]
    }
   ],
   "source": [
    "#\\s white space \\S non white space\n",
    "print(re.findall('\\s',m_characters))\n",
    "print(re.findall('\\S',m_characters))"
   ]
  },
  {
   "cell_type": "code",
   "execution_count": 54,
   "id": "57a7ae8e",
   "metadata": {},
   "outputs": [
    {
     "name": "stdout",
     "output_type": "stream",
     "text": [
      "['1', '2', '3', '4', '5', '?', '!', '@', ' ', '\\t', '\\n']\n"
     ]
    }
   ],
   "source": [
    "# | for or\n",
    "print(re.findall(\"\\d|\\W\",m_characters))"
   ]
  },
  {
   "cell_type": "code",
   "execution_count": 60,
   "id": "c14d7ae1",
   "metadata": {},
   "outputs": [
    {
     "name": "stdout",
     "output_type": "stream",
     "text": [
      "['Hello', 'He  o']\n"
     ]
    }
   ],
   "source": [
    "# . any character other than new line\n",
    "#{Number} number of occurances\n",
    "my_str = \"Hello SDEV 220 and SDEV 140 He  o\"\n",
    "\n",
    "print(re.findall(\"He.{2}o\",my_str))"
   ]
  },
  {
   "cell_type": "code",
   "execution_count": 62,
   "id": "6c7af2d1",
   "metadata": {},
   "outputs": [
    {
     "name": "stdout",
     "output_type": "stream",
     "text": [
      "['H']\n",
      "['He  o']\n"
     ]
    }
   ],
   "source": [
    "#^ starts with\n",
    "#$ ends with\n",
    "print(re.findall(\"^H\",my_str))\n",
    "print(re.findall(\"He  o$\", my_str))"
   ]
  },
  {
   "cell_type": "code",
   "execution_count": 71,
   "id": "9b795ac3",
   "metadata": {},
   "outputs": [
    {
     "name": "stdout",
     "output_type": "stream",
     "text": [
      "['Brat Rat Dog Bat Bar Car Sap That Cat Slat Bird Hat Ball Mat']\n"
     ]
    }
   ],
   "source": [
    "my_words = \"Brat Rat Dog Bat Bar Car Sap That Cat Slat Bird Hat Ball Mat\"\n",
    "print(re.findall(\".+at\",my_words))"
   ]
  },
  {
   "cell_type": "code",
   "execution_count": 72,
   "id": "4b08378a",
   "metadata": {},
   "outputs": [
    {
     "name": "stdout",
     "output_type": "stream",
     "text": [
      "['o', 'g']\n"
     ]
    }
   ],
   "source": [
    "#sets [ogn]\n",
    "print(re.findall(\"[ogn]\",my_words))"
   ]
  },
  {
   "cell_type": "code",
   "execution_count": 73,
   "id": "f63c72bc",
   "metadata": {},
   "outputs": [
    {
     "name": "stdout",
     "output_type": "stream",
     "text": [
      "['rat', 'Rat', 'Bat', 'Bar', 'Car', 'Sap', 'hat', 'Cat', 'lat', 'Bir', 'Hat', 'Mat']\n"
     ]
    }
   ],
   "source": [
    "print(re.findall(\".{2}[trp]\",my_words))"
   ]
  },
  {
   "cell_type": "code",
   "execution_count": 74,
   "id": "bbc8ac1a",
   "metadata": {},
   "outputs": [
    {
     "name": "stdout",
     "output_type": "stream",
     "text": [
      "['a', 'a', 'a', 'a', 'a', 'a', 'a', 'a', 'a', 'd', 'a', 'a', 'a']\n"
     ]
    }
   ],
   "source": [
    "print(re.findall(\"[a-d]\",my_words))"
   ]
  },
  {
   "cell_type": "code",
   "execution_count": 75,
   "id": "33968fa4",
   "metadata": {},
   "outputs": [
    {
     "name": "stdout",
     "output_type": "stream",
     "text": [
      "['1', '2', '3', '3', '2', '1']\n"
     ]
    }
   ],
   "source": [
    "my_nums = \"12345676543210\"\n",
    "print(re.findall(\"[1-3]\",my_nums))"
   ]
  },
  {
   "cell_type": "code",
   "execution_count": 76,
   "id": "614e84bf",
   "metadata": {},
   "outputs": [
    {
     "name": "stdout",
     "output_type": "stream",
     "text": [
      "['12', '34', '54', '32']\n"
     ]
    }
   ],
   "source": [
    "print(re.findall(\"[0-7][2-4]\",my_nums))"
   ]
  },
  {
   "cell_type": "markdown",
   "id": "ca094ada",
   "metadata": {},
   "source": [
    "July 10 2023, 10 July 2023, 7/10/2023 10/7/2023"
   ]
  },
  {
   "cell_type": "code",
   "execution_count": 78,
   "id": "942de23d",
   "metadata": {},
   "outputs": [
    {
     "name": "stdout",
     "output_type": "stream",
     "text": [
      "2024-04-22\n",
      "2024-04-22\n"
     ]
    }
   ],
   "source": [
    "import datetime as dt\n",
    "#has four object classes\n",
    "#Date -> years months and days\n",
    "#Time -> hours, minutes, fractions\n",
    "#Datetime -> dates and times combined\n",
    "#Timedelta _> intervals of time\n",
    "\n",
    "#dates largest to smallest\n",
    "today = dt.date(2024,4,22)\n",
    "print(today.isoformat())\n",
    "print(today)\n"
   ]
  },
  {
   "cell_type": "code",
   "execution_count": 79,
   "id": "7d32f21a",
   "metadata": {},
   "outputs": [
    {
     "name": "stdout",
     "output_type": "stream",
     "text": [
      "2024-04-29\n"
     ]
    }
   ],
   "source": [
    "#Timedelta\n",
    "from datetime import timedelta\n",
    "week = timedelta(days=7)\n",
    "print(today + week)\n"
   ]
  },
  {
   "cell_type": "code",
   "execution_count": 80,
   "id": "6b40baec",
   "metadata": {},
   "outputs": [
    {
     "name": "stdout",
     "output_type": "stream",
     "text": [
      "03:43:00\n"
     ]
    }
   ],
   "source": [
    "#time\n",
    "from datetime import time\n",
    "now = time(3,43,0)\n",
    "print(now)"
   ]
  },
  {
   "cell_type": "code",
   "execution_count": 82,
   "id": "dad934f6",
   "metadata": {},
   "outputs": [
    {
     "name": "stdout",
     "output_type": "stream",
     "text": [
      "2024-04-22 15:44:27.060152\n"
     ]
    }
   ],
   "source": [
    "print(dt.datetime.now())"
   ]
  },
  {
   "cell_type": "code",
   "execution_count": null,
   "id": "2f714bc3",
   "metadata": {},
   "outputs": [],
   "source": []
  }
 ],
 "metadata": {
  "kernelspec": {
   "display_name": "Python 3 (ipykernel)",
   "language": "python",
   "name": "python3"
  },
  "language_info": {
   "codemirror_mode": {
    "name": "ipython",
    "version": 3
   },
   "file_extension": ".py",
   "mimetype": "text/x-python",
   "name": "python",
   "nbconvert_exporter": "python",
   "pygments_lexer": "ipython3",
   "version": "3.10.9"
  }
 },
 "nbformat": 4,
 "nbformat_minor": 5
}
